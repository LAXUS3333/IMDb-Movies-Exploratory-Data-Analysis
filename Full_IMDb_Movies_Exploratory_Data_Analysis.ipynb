{
  "nbformat": 4,
  "nbformat_minor": 0,
  "metadata": {
    "colab": {
      "provenance": [],
      "collapsed_sections": [
        "0z0bkobVpBmY",
        "71gKwHMWpm-g"
      ],
      "toc_visible": true,
      "gpuType": "T4",
      "authorship_tag": "ABX9TyMQii1EqWgsp6jd1PzwrUzC",
      "include_colab_link": true
    },
    "kernelspec": {
      "name": "python3",
      "display_name": "Python 3"
    },
    "language_info": {
      "name": "python"
    }
  },
  "cells": [
    {
      "cell_type": "markdown",
      "metadata": {
        "id": "view-in-github",
        "colab_type": "text"
      },
      "source": [
        "<a href=\"https://colab.research.google.com/github/LAXUS3333/IMDb-Movies-Explortory-Data-Analysis/blob/main/Full_IMDb_Movies_Exploratory_Data_Analysis.ipynb\" target=\"_parent\"><img src=\"https://colab.research.google.com/assets/colab-badge.svg\" alt=\"Open In Colab\"/></a>"
      ]
    },
    {
      "cell_type": "markdown",
      "source": [
        "# Full IMDb Movies Exploratory Data Analysis"
      ],
      "metadata": {
        "id": "lNOoLSIAhlVm"
      }
    },
    {
      "cell_type": "markdown",
      "source": [
        "A dataset taken from Kaggle and analyzed in Collab with the help of Pandas, Matplotlib and Seaborn. The process is given below with the source code."
      ],
      "metadata": {
        "id": "tU2Kew_Mgyfo"
      }
    },
    {
      "cell_type": "markdown",
      "source": [
        "## Importing Dataset"
      ],
      "metadata": {
        "id": "0z0bkobVpBmY"
      }
    },
    {
      "cell_type": "code",
      "execution_count": 1,
      "metadata": {
        "colab": {
          "base_uri": "https://localhost:8080/"
        },
        "collapsed": true,
        "id": "yMFUdjWfgE69",
        "outputId": "5b002047-a133-4f17-a2d9-5202e6f12353"
      },
      "outputs": [
        {
          "output_type": "stream",
          "name": "stdout",
          "text": [
            "Collecting opendatasets\n",
            "  Downloading opendatasets-0.1.22-py3-none-any.whl.metadata (9.2 kB)\n",
            "Requirement already satisfied: tqdm in /usr/local/lib/python3.11/dist-packages (from opendatasets) (4.67.1)\n",
            "Requirement already satisfied: kaggle in /usr/local/lib/python3.11/dist-packages (from opendatasets) (1.6.17)\n",
            "Requirement already satisfied: click in /usr/local/lib/python3.11/dist-packages (from opendatasets) (8.1.8)\n",
            "Requirement already satisfied: six>=1.10 in /usr/local/lib/python3.11/dist-packages (from kaggle->opendatasets) (1.17.0)\n",
            "Requirement already satisfied: certifi>=2023.7.22 in /usr/local/lib/python3.11/dist-packages (from kaggle->opendatasets) (2024.12.14)\n",
            "Requirement already satisfied: python-dateutil in /usr/local/lib/python3.11/dist-packages (from kaggle->opendatasets) (2.8.2)\n",
            "Requirement already satisfied: requests in /usr/local/lib/python3.11/dist-packages (from kaggle->opendatasets) (2.32.3)\n",
            "Requirement already satisfied: python-slugify in /usr/local/lib/python3.11/dist-packages (from kaggle->opendatasets) (8.0.4)\n",
            "Requirement already satisfied: urllib3 in /usr/local/lib/python3.11/dist-packages (from kaggle->opendatasets) (2.3.0)\n",
            "Requirement already satisfied: bleach in /usr/local/lib/python3.11/dist-packages (from kaggle->opendatasets) (6.2.0)\n",
            "Requirement already satisfied: webencodings in /usr/local/lib/python3.11/dist-packages (from bleach->kaggle->opendatasets) (0.5.1)\n",
            "Requirement already satisfied: text-unidecode>=1.3 in /usr/local/lib/python3.11/dist-packages (from python-slugify->kaggle->opendatasets) (1.3)\n",
            "Requirement already satisfied: charset-normalizer<4,>=2 in /usr/local/lib/python3.11/dist-packages (from requests->kaggle->opendatasets) (3.4.1)\n",
            "Requirement already satisfied: idna<4,>=2.5 in /usr/local/lib/python3.11/dist-packages (from requests->kaggle->opendatasets) (3.10)\n",
            "Downloading opendatasets-0.1.22-py3-none-any.whl (15 kB)\n",
            "Installing collected packages: opendatasets\n",
            "Successfully installed opendatasets-0.1.22\n"
          ]
        }
      ],
      "source": [
        "pip install opendatasets --upgrade"
      ]
    },
    {
      "cell_type": "code",
      "source": [
        "import opendatasets as od\n",
        "dataset_url = 'https://www.kaggle.com/datasets/anandshaw2001/imdb-data'\n",
        "od.download(dataset_url)"
      ],
      "metadata": {
        "colab": {
          "base_uri": "https://localhost:8080/"
        },
        "id": "I5kEQwa9j14Z",
        "outputId": "3b36bc77-c197-49b7-c6b9-832e0dfe04c9"
      },
      "execution_count": 2,
      "outputs": [
        {
          "output_type": "stream",
          "name": "stdout",
          "text": [
            "Please provide your Kaggle credentials to download this dataset. Learn more: http://bit.ly/kaggle-creds\n",
            "Your Kaggle username: nafisazmain\n",
            "Your Kaggle Key: ··········\n",
            "Dataset URL: https://www.kaggle.com/datasets/anandshaw2001/imdb-data\n",
            "Downloading imdb-data.zip to ./imdb-data\n"
          ]
        },
        {
          "output_type": "stream",
          "name": "stderr",
          "text": [
            "100%|██████████| 153M/153M [00:01<00:00, 133MB/s]\n"
          ]
        },
        {
          "output_type": "stream",
          "name": "stdout",
          "text": [
            "\n"
          ]
        }
      ]
    },
    {
      "cell_type": "markdown",
      "source": [
        "## Data Preparation and Cleaning"
      ],
      "metadata": {
        "id": "71gKwHMWpm-g"
      }
    },
    {
      "cell_type": "code",
      "source": [
        "filename='./imdb-data/Imdb Movie Dataset.csv'"
      ],
      "metadata": {
        "id": "YZHF0nXSp3Fl"
      },
      "execution_count": 3,
      "outputs": []
    },
    {
      "cell_type": "code",
      "source": [
        "import pandas as pd"
      ],
      "metadata": {
        "id": "eTBmOa6fqL0E"
      },
      "execution_count": 4,
      "outputs": []
    },
    {
      "cell_type": "code",
      "source": [
        "df=pd.read_csv(filename)\n",
        "df.head()"
      ],
      "metadata": {
        "colab": {
          "base_uri": "https://localhost:8080/",
          "height": 690
        },
        "id": "t9m2dJV_qTrH",
        "outputId": "32d19d0d-59d2-44cd-ba4a-fafa3e75b736"
      },
      "execution_count": 5,
      "outputs": [
        {
          "output_type": "execute_result",
          "data": {
            "text/plain": [
              "       id            title  vote_average  vote_count    status release_date  \\\n",
              "0   27205        Inception         8.364       34495  Released    7/15/2010   \n",
              "1  157336     Interstellar         8.417       32571  Released    11/5/2014   \n",
              "2     155  The Dark Knight         8.512       30619  Released    7/16/2008   \n",
              "3   19995           Avatar         7.573       29815  Released   12/15/2009   \n",
              "4   24428     The Avengers         7.710       29166  Released    4/25/2012   \n",
              "\n",
              "      revenue  runtime  adult     budget  ... original_language  \\\n",
              "0   825532764      148  False  160000000  ...                en   \n",
              "1   701729206      169  False  165000000  ...                en   \n",
              "2  1004558444      152  False  185000000  ...                en   \n",
              "3  2923706026      162  False  237000000  ...                en   \n",
              "4  1518815515      143  False  220000000  ...                en   \n",
              "\n",
              "    original_title                                           overview  \\\n",
              "0        Inception  Cobb, a skilled thief who commits corporate es...   \n",
              "1     Interstellar  The adventures of a group of explorers who mak...   \n",
              "2  The Dark Knight  Batman raises the stakes in his war on crime. ...   \n",
              "3           Avatar  In the 22nd century, a paraplegic Marine is di...   \n",
              "4     The Avengers  When an unexpected enemy emerges and threatens...   \n",
              "\n",
              "  popularity                                            tagline  \\\n",
              "0     83.952               Your mind is the scene of the crime.   \n",
              "1    140.241  Mankind was born on Earth. It was never meant ...   \n",
              "2    130.643                  Welcome to a world without rules.   \n",
              "3     79.932                        Enter the world of Pandora.   \n",
              "4     98.082                            Some assembly required.   \n",
              "\n",
              "                                        genres  \\\n",
              "0           Action, Science Fiction, Adventure   \n",
              "1            Adventure, Drama, Science Fiction   \n",
              "2               Drama, Action, Crime, Thriller   \n",
              "3  Action, Adventure, Fantasy, Science Fiction   \n",
              "4           Science Fiction, Action, Adventure   \n",
              "\n",
              "                                production_companies  \\\n",
              "0  Legendary Pictures, Syncopy, Warner Bros. Pict...   \n",
              "1  Legendary Pictures, Syncopy, Lynda Obst Produc...   \n",
              "2  DC Comics, Legendary Pictures, Syncopy, Isobel...   \n",
              "3  Dune Entertainment, Lightstorm Entertainment, ...   \n",
              "4                                     Marvel Studios   \n",
              "\n",
              "                       production_countries  \\\n",
              "0  United Kingdom, United States of America   \n",
              "1  United Kingdom, United States of America   \n",
              "2  United Kingdom, United States of America   \n",
              "3  United States of America, United Kingdom   \n",
              "4                  United States of America   \n",
              "\n",
              "                     spoken_languages  \\\n",
              "0  English, French, Japanese, Swahili   \n",
              "1                             English   \n",
              "2                   English, Mandarin   \n",
              "3                    English, Spanish   \n",
              "4             English, Hindi, Russian   \n",
              "\n",
              "                                            keywords  \n",
              "0  rescue, mission, dream, airplane, paris, franc...  \n",
              "1  rescue, future, spacecraft, race against time,...  \n",
              "2  joker, sadism, chaos, secret identity, crime f...  \n",
              "3  future, society, culture clash, space travel, ...  \n",
              "4  new york city, superhero, shield, based on com...  \n",
              "\n",
              "[5 rows x 21 columns]"
            ],
            "text/html": [
              "\n",
              "  <div id=\"df-780ee463-1743-4031-95e1-421ed103e73d\" class=\"colab-df-container\">\n",
              "    <div>\n",
              "<style scoped>\n",
              "    .dataframe tbody tr th:only-of-type {\n",
              "        vertical-align: middle;\n",
              "    }\n",
              "\n",
              "    .dataframe tbody tr th {\n",
              "        vertical-align: top;\n",
              "    }\n",
              "\n",
              "    .dataframe thead th {\n",
              "        text-align: right;\n",
              "    }\n",
              "</style>\n",
              "<table border=\"1\" class=\"dataframe\">\n",
              "  <thead>\n",
              "    <tr style=\"text-align: right;\">\n",
              "      <th></th>\n",
              "      <th>id</th>\n",
              "      <th>title</th>\n",
              "      <th>vote_average</th>\n",
              "      <th>vote_count</th>\n",
              "      <th>status</th>\n",
              "      <th>release_date</th>\n",
              "      <th>revenue</th>\n",
              "      <th>runtime</th>\n",
              "      <th>adult</th>\n",
              "      <th>budget</th>\n",
              "      <th>...</th>\n",
              "      <th>original_language</th>\n",
              "      <th>original_title</th>\n",
              "      <th>overview</th>\n",
              "      <th>popularity</th>\n",
              "      <th>tagline</th>\n",
              "      <th>genres</th>\n",
              "      <th>production_companies</th>\n",
              "      <th>production_countries</th>\n",
              "      <th>spoken_languages</th>\n",
              "      <th>keywords</th>\n",
              "    </tr>\n",
              "  </thead>\n",
              "  <tbody>\n",
              "    <tr>\n",
              "      <th>0</th>\n",
              "      <td>27205</td>\n",
              "      <td>Inception</td>\n",
              "      <td>8.364</td>\n",
              "      <td>34495</td>\n",
              "      <td>Released</td>\n",
              "      <td>7/15/2010</td>\n",
              "      <td>825532764</td>\n",
              "      <td>148</td>\n",
              "      <td>False</td>\n",
              "      <td>160000000</td>\n",
              "      <td>...</td>\n",
              "      <td>en</td>\n",
              "      <td>Inception</td>\n",
              "      <td>Cobb, a skilled thief who commits corporate es...</td>\n",
              "      <td>83.952</td>\n",
              "      <td>Your mind is the scene of the crime.</td>\n",
              "      <td>Action, Science Fiction, Adventure</td>\n",
              "      <td>Legendary Pictures, Syncopy, Warner Bros. Pict...</td>\n",
              "      <td>United Kingdom, United States of America</td>\n",
              "      <td>English, French, Japanese, Swahili</td>\n",
              "      <td>rescue, mission, dream, airplane, paris, franc...</td>\n",
              "    </tr>\n",
              "    <tr>\n",
              "      <th>1</th>\n",
              "      <td>157336</td>\n",
              "      <td>Interstellar</td>\n",
              "      <td>8.417</td>\n",
              "      <td>32571</td>\n",
              "      <td>Released</td>\n",
              "      <td>11/5/2014</td>\n",
              "      <td>701729206</td>\n",
              "      <td>169</td>\n",
              "      <td>False</td>\n",
              "      <td>165000000</td>\n",
              "      <td>...</td>\n",
              "      <td>en</td>\n",
              "      <td>Interstellar</td>\n",
              "      <td>The adventures of a group of explorers who mak...</td>\n",
              "      <td>140.241</td>\n",
              "      <td>Mankind was born on Earth. It was never meant ...</td>\n",
              "      <td>Adventure, Drama, Science Fiction</td>\n",
              "      <td>Legendary Pictures, Syncopy, Lynda Obst Produc...</td>\n",
              "      <td>United Kingdom, United States of America</td>\n",
              "      <td>English</td>\n",
              "      <td>rescue, future, spacecraft, race against time,...</td>\n",
              "    </tr>\n",
              "    <tr>\n",
              "      <th>2</th>\n",
              "      <td>155</td>\n",
              "      <td>The Dark Knight</td>\n",
              "      <td>8.512</td>\n",
              "      <td>30619</td>\n",
              "      <td>Released</td>\n",
              "      <td>7/16/2008</td>\n",
              "      <td>1004558444</td>\n",
              "      <td>152</td>\n",
              "      <td>False</td>\n",
              "      <td>185000000</td>\n",
              "      <td>...</td>\n",
              "      <td>en</td>\n",
              "      <td>The Dark Knight</td>\n",
              "      <td>Batman raises the stakes in his war on crime. ...</td>\n",
              "      <td>130.643</td>\n",
              "      <td>Welcome to a world without rules.</td>\n",
              "      <td>Drama, Action, Crime, Thriller</td>\n",
              "      <td>DC Comics, Legendary Pictures, Syncopy, Isobel...</td>\n",
              "      <td>United Kingdom, United States of America</td>\n",
              "      <td>English, Mandarin</td>\n",
              "      <td>joker, sadism, chaos, secret identity, crime f...</td>\n",
              "    </tr>\n",
              "    <tr>\n",
              "      <th>3</th>\n",
              "      <td>19995</td>\n",
              "      <td>Avatar</td>\n",
              "      <td>7.573</td>\n",
              "      <td>29815</td>\n",
              "      <td>Released</td>\n",
              "      <td>12/15/2009</td>\n",
              "      <td>2923706026</td>\n",
              "      <td>162</td>\n",
              "      <td>False</td>\n",
              "      <td>237000000</td>\n",
              "      <td>...</td>\n",
              "      <td>en</td>\n",
              "      <td>Avatar</td>\n",
              "      <td>In the 22nd century, a paraplegic Marine is di...</td>\n",
              "      <td>79.932</td>\n",
              "      <td>Enter the world of Pandora.</td>\n",
              "      <td>Action, Adventure, Fantasy, Science Fiction</td>\n",
              "      <td>Dune Entertainment, Lightstorm Entertainment, ...</td>\n",
              "      <td>United States of America, United Kingdom</td>\n",
              "      <td>English, Spanish</td>\n",
              "      <td>future, society, culture clash, space travel, ...</td>\n",
              "    </tr>\n",
              "    <tr>\n",
              "      <th>4</th>\n",
              "      <td>24428</td>\n",
              "      <td>The Avengers</td>\n",
              "      <td>7.710</td>\n",
              "      <td>29166</td>\n",
              "      <td>Released</td>\n",
              "      <td>4/25/2012</td>\n",
              "      <td>1518815515</td>\n",
              "      <td>143</td>\n",
              "      <td>False</td>\n",
              "      <td>220000000</td>\n",
              "      <td>...</td>\n",
              "      <td>en</td>\n",
              "      <td>The Avengers</td>\n",
              "      <td>When an unexpected enemy emerges and threatens...</td>\n",
              "      <td>98.082</td>\n",
              "      <td>Some assembly required.</td>\n",
              "      <td>Science Fiction, Action, Adventure</td>\n",
              "      <td>Marvel Studios</td>\n",
              "      <td>United States of America</td>\n",
              "      <td>English, Hindi, Russian</td>\n",
              "      <td>new york city, superhero, shield, based on com...</td>\n",
              "    </tr>\n",
              "  </tbody>\n",
              "</table>\n",
              "<p>5 rows × 21 columns</p>\n",
              "</div>\n",
              "    <div class=\"colab-df-buttons\">\n",
              "\n",
              "  <div class=\"colab-df-container\">\n",
              "    <button class=\"colab-df-convert\" onclick=\"convertToInteractive('df-780ee463-1743-4031-95e1-421ed103e73d')\"\n",
              "            title=\"Convert this dataframe to an interactive table.\"\n",
              "            style=\"display:none;\">\n",
              "\n",
              "  <svg xmlns=\"http://www.w3.org/2000/svg\" height=\"24px\" viewBox=\"0 -960 960 960\">\n",
              "    <path d=\"M120-120v-720h720v720H120Zm60-500h600v-160H180v160Zm220 220h160v-160H400v160Zm0 220h160v-160H400v160ZM180-400h160v-160H180v160Zm440 0h160v-160H620v160ZM180-180h160v-160H180v160Zm440 0h160v-160H620v160Z\"/>\n",
              "  </svg>\n",
              "    </button>\n",
              "\n",
              "  <style>\n",
              "    .colab-df-container {\n",
              "      display:flex;\n",
              "      gap: 12px;\n",
              "    }\n",
              "\n",
              "    .colab-df-convert {\n",
              "      background-color: #E8F0FE;\n",
              "      border: none;\n",
              "      border-radius: 50%;\n",
              "      cursor: pointer;\n",
              "      display: none;\n",
              "      fill: #1967D2;\n",
              "      height: 32px;\n",
              "      padding: 0 0 0 0;\n",
              "      width: 32px;\n",
              "    }\n",
              "\n",
              "    .colab-df-convert:hover {\n",
              "      background-color: #E2EBFA;\n",
              "      box-shadow: 0px 1px 2px rgba(60, 64, 67, 0.3), 0px 1px 3px 1px rgba(60, 64, 67, 0.15);\n",
              "      fill: #174EA6;\n",
              "    }\n",
              "\n",
              "    .colab-df-buttons div {\n",
              "      margin-bottom: 4px;\n",
              "    }\n",
              "\n",
              "    [theme=dark] .colab-df-convert {\n",
              "      background-color: #3B4455;\n",
              "      fill: #D2E3FC;\n",
              "    }\n",
              "\n",
              "    [theme=dark] .colab-df-convert:hover {\n",
              "      background-color: #434B5C;\n",
              "      box-shadow: 0px 1px 3px 1px rgba(0, 0, 0, 0.15);\n",
              "      filter: drop-shadow(0px 1px 2px rgba(0, 0, 0, 0.3));\n",
              "      fill: #FFFFFF;\n",
              "    }\n",
              "  </style>\n",
              "\n",
              "    <script>\n",
              "      const buttonEl =\n",
              "        document.querySelector('#df-780ee463-1743-4031-95e1-421ed103e73d button.colab-df-convert');\n",
              "      buttonEl.style.display =\n",
              "        google.colab.kernel.accessAllowed ? 'block' : 'none';\n",
              "\n",
              "      async function convertToInteractive(key) {\n",
              "        const element = document.querySelector('#df-780ee463-1743-4031-95e1-421ed103e73d');\n",
              "        const dataTable =\n",
              "          await google.colab.kernel.invokeFunction('convertToInteractive',\n",
              "                                                    [key], {});\n",
              "        if (!dataTable) return;\n",
              "\n",
              "        const docLinkHtml = 'Like what you see? Visit the ' +\n",
              "          '<a target=\"_blank\" href=https://colab.research.google.com/notebooks/data_table.ipynb>data table notebook</a>'\n",
              "          + ' to learn more about interactive tables.';\n",
              "        element.innerHTML = '';\n",
              "        dataTable['output_type'] = 'display_data';\n",
              "        await google.colab.output.renderOutput(dataTable, element);\n",
              "        const docLink = document.createElement('div');\n",
              "        docLink.innerHTML = docLinkHtml;\n",
              "        element.appendChild(docLink);\n",
              "      }\n",
              "    </script>\n",
              "  </div>\n",
              "\n",
              "\n",
              "<div id=\"df-ddbb2047-ce24-4a53-a25a-ec66518a8930\">\n",
              "  <button class=\"colab-df-quickchart\" onclick=\"quickchart('df-ddbb2047-ce24-4a53-a25a-ec66518a8930')\"\n",
              "            title=\"Suggest charts\"\n",
              "            style=\"display:none;\">\n",
              "\n",
              "<svg xmlns=\"http://www.w3.org/2000/svg\" height=\"24px\"viewBox=\"0 0 24 24\"\n",
              "     width=\"24px\">\n",
              "    <g>\n",
              "        <path d=\"M19 3H5c-1.1 0-2 .9-2 2v14c0 1.1.9 2 2 2h14c1.1 0 2-.9 2-2V5c0-1.1-.9-2-2-2zM9 17H7v-7h2v7zm4 0h-2V7h2v10zm4 0h-2v-4h2v4z\"/>\n",
              "    </g>\n",
              "</svg>\n",
              "  </button>\n",
              "\n",
              "<style>\n",
              "  .colab-df-quickchart {\n",
              "      --bg-color: #E8F0FE;\n",
              "      --fill-color: #1967D2;\n",
              "      --hover-bg-color: #E2EBFA;\n",
              "      --hover-fill-color: #174EA6;\n",
              "      --disabled-fill-color: #AAA;\n",
              "      --disabled-bg-color: #DDD;\n",
              "  }\n",
              "\n",
              "  [theme=dark] .colab-df-quickchart {\n",
              "      --bg-color: #3B4455;\n",
              "      --fill-color: #D2E3FC;\n",
              "      --hover-bg-color: #434B5C;\n",
              "      --hover-fill-color: #FFFFFF;\n",
              "      --disabled-bg-color: #3B4455;\n",
              "      --disabled-fill-color: #666;\n",
              "  }\n",
              "\n",
              "  .colab-df-quickchart {\n",
              "    background-color: var(--bg-color);\n",
              "    border: none;\n",
              "    border-radius: 50%;\n",
              "    cursor: pointer;\n",
              "    display: none;\n",
              "    fill: var(--fill-color);\n",
              "    height: 32px;\n",
              "    padding: 0;\n",
              "    width: 32px;\n",
              "  }\n",
              "\n",
              "  .colab-df-quickchart:hover {\n",
              "    background-color: var(--hover-bg-color);\n",
              "    box-shadow: 0 1px 2px rgba(60, 64, 67, 0.3), 0 1px 3px 1px rgba(60, 64, 67, 0.15);\n",
              "    fill: var(--button-hover-fill-color);\n",
              "  }\n",
              "\n",
              "  .colab-df-quickchart-complete:disabled,\n",
              "  .colab-df-quickchart-complete:disabled:hover {\n",
              "    background-color: var(--disabled-bg-color);\n",
              "    fill: var(--disabled-fill-color);\n",
              "    box-shadow: none;\n",
              "  }\n",
              "\n",
              "  .colab-df-spinner {\n",
              "    border: 2px solid var(--fill-color);\n",
              "    border-color: transparent;\n",
              "    border-bottom-color: var(--fill-color);\n",
              "    animation:\n",
              "      spin 1s steps(1) infinite;\n",
              "  }\n",
              "\n",
              "  @keyframes spin {\n",
              "    0% {\n",
              "      border-color: transparent;\n",
              "      border-bottom-color: var(--fill-color);\n",
              "      border-left-color: var(--fill-color);\n",
              "    }\n",
              "    20% {\n",
              "      border-color: transparent;\n",
              "      border-left-color: var(--fill-color);\n",
              "      border-top-color: var(--fill-color);\n",
              "    }\n",
              "    30% {\n",
              "      border-color: transparent;\n",
              "      border-left-color: var(--fill-color);\n",
              "      border-top-color: var(--fill-color);\n",
              "      border-right-color: var(--fill-color);\n",
              "    }\n",
              "    40% {\n",
              "      border-color: transparent;\n",
              "      border-right-color: var(--fill-color);\n",
              "      border-top-color: var(--fill-color);\n",
              "    }\n",
              "    60% {\n",
              "      border-color: transparent;\n",
              "      border-right-color: var(--fill-color);\n",
              "    }\n",
              "    80% {\n",
              "      border-color: transparent;\n",
              "      border-right-color: var(--fill-color);\n",
              "      border-bottom-color: var(--fill-color);\n",
              "    }\n",
              "    90% {\n",
              "      border-color: transparent;\n",
              "      border-bottom-color: var(--fill-color);\n",
              "    }\n",
              "  }\n",
              "</style>\n",
              "\n",
              "  <script>\n",
              "    async function quickchart(key) {\n",
              "      const quickchartButtonEl =\n",
              "        document.querySelector('#' + key + ' button');\n",
              "      quickchartButtonEl.disabled = true;  // To prevent multiple clicks.\n",
              "      quickchartButtonEl.classList.add('colab-df-spinner');\n",
              "      try {\n",
              "        const charts = await google.colab.kernel.invokeFunction(\n",
              "            'suggestCharts', [key], {});\n",
              "      } catch (error) {\n",
              "        console.error('Error during call to suggestCharts:', error);\n",
              "      }\n",
              "      quickchartButtonEl.classList.remove('colab-df-spinner');\n",
              "      quickchartButtonEl.classList.add('colab-df-quickchart-complete');\n",
              "    }\n",
              "    (() => {\n",
              "      let quickchartButtonEl =\n",
              "        document.querySelector('#df-ddbb2047-ce24-4a53-a25a-ec66518a8930 button');\n",
              "      quickchartButtonEl.style.display =\n",
              "        google.colab.kernel.accessAllowed ? 'block' : 'none';\n",
              "    })();\n",
              "  </script>\n",
              "</div>\n",
              "\n",
              "    </div>\n",
              "  </div>\n"
            ],
            "application/vnd.google.colaboratory.intrinsic+json": {
              "type": "dataframe",
              "variable_name": "df"
            }
          },
          "metadata": {},
          "execution_count": 5
        }
      ]
    },
    {
      "cell_type": "code",
      "source": [
        "df.columns"
      ],
      "metadata": {
        "colab": {
          "base_uri": "https://localhost:8080/"
        },
        "id": "iDW8n05Oryq1",
        "outputId": "414fbe76-0b94-44c5-bdb9-388bdc04a63c"
      },
      "execution_count": 6,
      "outputs": [
        {
          "output_type": "execute_result",
          "data": {
            "text/plain": [
              "Index(['id', 'title', 'vote_average', 'vote_count', 'status', 'release_date',\n",
              "       'revenue', 'runtime', 'adult', 'budget', 'imdb_id', 'original_language',\n",
              "       'original_title', 'overview', 'popularity', 'tagline', 'genres',\n",
              "       'production_companies', 'production_countries', 'spoken_languages',\n",
              "       'keywords'],\n",
              "      dtype='object')"
            ]
          },
          "metadata": {},
          "execution_count": 6
        }
      ]
    },
    {
      "cell_type": "code",
      "source": [
        "df.info()"
      ],
      "metadata": {
        "colab": {
          "base_uri": "https://localhost:8080/"
        },
        "id": "bf-1KREur9yI",
        "outputId": "bfb6ec51-190f-416a-cb51-6c8309079649"
      },
      "execution_count": 7,
      "outputs": [
        {
          "output_type": "stream",
          "name": "stdout",
          "text": [
            "<class 'pandas.core.frame.DataFrame'>\n",
            "RangeIndex: 1048575 entries, 0 to 1048574\n",
            "Data columns (total 21 columns):\n",
            " #   Column                Non-Null Count    Dtype  \n",
            "---  ------                --------------    -----  \n",
            " 0   id                    1048575 non-null  int64  \n",
            " 1   title                 1048562 non-null  object \n",
            " 2   vote_average          1048575 non-null  float64\n",
            " 3   vote_count            1048575 non-null  int64  \n",
            " 4   status                1048575 non-null  object \n",
            " 5   release_date          866758 non-null   object \n",
            " 6   revenue               1048575 non-null  int64  \n",
            " 7   runtime               1048575 non-null  int64  \n",
            " 8   adult                 1048575 non-null  bool   \n",
            " 9   budget                1048575 non-null  int64  \n",
            " 10  imdb_id               560572 non-null   object \n",
            " 11  original_language     1048575 non-null  object \n",
            " 12  original_title        1048562 non-null  object \n",
            " 13  overview              832751 non-null   object \n",
            " 14  popularity            1048575 non-null  float64\n",
            " 15  tagline               152728 non-null   object \n",
            " 16  genres                633603 non-null   object \n",
            " 17  production_companies  480147 non-null   object \n",
            " 18  production_countries  585078 non-null   object \n",
            " 19  spoken_languages      607913 non-null   object \n",
            " 20  keywords              292621 non-null   object \n",
            "dtypes: bool(1), float64(2), int64(5), object(13)\n",
            "memory usage: 161.0+ MB\n"
          ]
        }
      ]
    },
    {
      "cell_type": "code",
      "source": [
        "df.describe()"
      ],
      "metadata": {
        "colab": {
          "base_uri": "https://localhost:8080/",
          "height": 300
        },
        "id": "jGI72DeEtBkl",
        "outputId": "17f4fe5a-fcb1-4b26-81ec-05a3e7d58bc6"
      },
      "execution_count": 8,
      "outputs": [
        {
          "output_type": "execute_result",
          "data": {
            "text/plain": [
              "                 id  vote_average    vote_count       revenue       runtime  \\\n",
              "count  1.048575e+06  1.048575e+06  1.048575e+06  1.048575e+06  1.048575e+06   \n",
              "mean   7.546888e+05  2.041560e+00  2.045584e+01  7.604112e+05  4.822610e+01   \n",
              "std    4.207457e+05  3.097234e+00  3.315669e+02  1.944925e+07  6.057823e+01   \n",
              "min    2.000000e+00  0.000000e+00  0.000000e+00 -1.200000e+01 -2.800000e+01   \n",
              "25%    3.846625e+05  0.000000e+00  0.000000e+00  0.000000e+00  0.000000e+00   \n",
              "50%    8.183790e+05  0.000000e+00  0.000000e+00  0.000000e+00  2.300000e+01   \n",
              "75%    1.140640e+06  5.000000e+00  1.000000e+00  0.000000e+00  8.900000e+01   \n",
              "max    1.411041e+06  1.000000e+01  3.449500e+04  5.000000e+09  1.440000e+04   \n",
              "\n",
              "             budget    popularity  \n",
              "count  1.048575e+06  1.048575e+06  \n",
              "mean   2.913232e+05  1.276393e+00  \n",
              "std    5.319290e+06  7.889555e+00  \n",
              "min    0.000000e+00  0.000000e+00  \n",
              "25%    0.000000e+00  6.000000e-01  \n",
              "50%    0.000000e+00  6.000000e-01  \n",
              "75%    0.000000e+00  9.170000e-01  \n",
              "max    1.000000e+09  2.994357e+03  "
            ],
            "text/html": [
              "\n",
              "  <div id=\"df-88051582-9ae3-402a-aa30-bfa135adf3e4\" class=\"colab-df-container\">\n",
              "    <div>\n",
              "<style scoped>\n",
              "    .dataframe tbody tr th:only-of-type {\n",
              "        vertical-align: middle;\n",
              "    }\n",
              "\n",
              "    .dataframe tbody tr th {\n",
              "        vertical-align: top;\n",
              "    }\n",
              "\n",
              "    .dataframe thead th {\n",
              "        text-align: right;\n",
              "    }\n",
              "</style>\n",
              "<table border=\"1\" class=\"dataframe\">\n",
              "  <thead>\n",
              "    <tr style=\"text-align: right;\">\n",
              "      <th></th>\n",
              "      <th>id</th>\n",
              "      <th>vote_average</th>\n",
              "      <th>vote_count</th>\n",
              "      <th>revenue</th>\n",
              "      <th>runtime</th>\n",
              "      <th>budget</th>\n",
              "      <th>popularity</th>\n",
              "    </tr>\n",
              "  </thead>\n",
              "  <tbody>\n",
              "    <tr>\n",
              "      <th>count</th>\n",
              "      <td>1.048575e+06</td>\n",
              "      <td>1.048575e+06</td>\n",
              "      <td>1.048575e+06</td>\n",
              "      <td>1.048575e+06</td>\n",
              "      <td>1.048575e+06</td>\n",
              "      <td>1.048575e+06</td>\n",
              "      <td>1.048575e+06</td>\n",
              "    </tr>\n",
              "    <tr>\n",
              "      <th>mean</th>\n",
              "      <td>7.546888e+05</td>\n",
              "      <td>2.041560e+00</td>\n",
              "      <td>2.045584e+01</td>\n",
              "      <td>7.604112e+05</td>\n",
              "      <td>4.822610e+01</td>\n",
              "      <td>2.913232e+05</td>\n",
              "      <td>1.276393e+00</td>\n",
              "    </tr>\n",
              "    <tr>\n",
              "      <th>std</th>\n",
              "      <td>4.207457e+05</td>\n",
              "      <td>3.097234e+00</td>\n",
              "      <td>3.315669e+02</td>\n",
              "      <td>1.944925e+07</td>\n",
              "      <td>6.057823e+01</td>\n",
              "      <td>5.319290e+06</td>\n",
              "      <td>7.889555e+00</td>\n",
              "    </tr>\n",
              "    <tr>\n",
              "      <th>min</th>\n",
              "      <td>2.000000e+00</td>\n",
              "      <td>0.000000e+00</td>\n",
              "      <td>0.000000e+00</td>\n",
              "      <td>-1.200000e+01</td>\n",
              "      <td>-2.800000e+01</td>\n",
              "      <td>0.000000e+00</td>\n",
              "      <td>0.000000e+00</td>\n",
              "    </tr>\n",
              "    <tr>\n",
              "      <th>25%</th>\n",
              "      <td>3.846625e+05</td>\n",
              "      <td>0.000000e+00</td>\n",
              "      <td>0.000000e+00</td>\n",
              "      <td>0.000000e+00</td>\n",
              "      <td>0.000000e+00</td>\n",
              "      <td>0.000000e+00</td>\n",
              "      <td>6.000000e-01</td>\n",
              "    </tr>\n",
              "    <tr>\n",
              "      <th>50%</th>\n",
              "      <td>8.183790e+05</td>\n",
              "      <td>0.000000e+00</td>\n",
              "      <td>0.000000e+00</td>\n",
              "      <td>0.000000e+00</td>\n",
              "      <td>2.300000e+01</td>\n",
              "      <td>0.000000e+00</td>\n",
              "      <td>6.000000e-01</td>\n",
              "    </tr>\n",
              "    <tr>\n",
              "      <th>75%</th>\n",
              "      <td>1.140640e+06</td>\n",
              "      <td>5.000000e+00</td>\n",
              "      <td>1.000000e+00</td>\n",
              "      <td>0.000000e+00</td>\n",
              "      <td>8.900000e+01</td>\n",
              "      <td>0.000000e+00</td>\n",
              "      <td>9.170000e-01</td>\n",
              "    </tr>\n",
              "    <tr>\n",
              "      <th>max</th>\n",
              "      <td>1.411041e+06</td>\n",
              "      <td>1.000000e+01</td>\n",
              "      <td>3.449500e+04</td>\n",
              "      <td>5.000000e+09</td>\n",
              "      <td>1.440000e+04</td>\n",
              "      <td>1.000000e+09</td>\n",
              "      <td>2.994357e+03</td>\n",
              "    </tr>\n",
              "  </tbody>\n",
              "</table>\n",
              "</div>\n",
              "    <div class=\"colab-df-buttons\">\n",
              "\n",
              "  <div class=\"colab-df-container\">\n",
              "    <button class=\"colab-df-convert\" onclick=\"convertToInteractive('df-88051582-9ae3-402a-aa30-bfa135adf3e4')\"\n",
              "            title=\"Convert this dataframe to an interactive table.\"\n",
              "            style=\"display:none;\">\n",
              "\n",
              "  <svg xmlns=\"http://www.w3.org/2000/svg\" height=\"24px\" viewBox=\"0 -960 960 960\">\n",
              "    <path d=\"M120-120v-720h720v720H120Zm60-500h600v-160H180v160Zm220 220h160v-160H400v160Zm0 220h160v-160H400v160ZM180-400h160v-160H180v160Zm440 0h160v-160H620v160ZM180-180h160v-160H180v160Zm440 0h160v-160H620v160Z\"/>\n",
              "  </svg>\n",
              "    </button>\n",
              "\n",
              "  <style>\n",
              "    .colab-df-container {\n",
              "      display:flex;\n",
              "      gap: 12px;\n",
              "    }\n",
              "\n",
              "    .colab-df-convert {\n",
              "      background-color: #E8F0FE;\n",
              "      border: none;\n",
              "      border-radius: 50%;\n",
              "      cursor: pointer;\n",
              "      display: none;\n",
              "      fill: #1967D2;\n",
              "      height: 32px;\n",
              "      padding: 0 0 0 0;\n",
              "      width: 32px;\n",
              "    }\n",
              "\n",
              "    .colab-df-convert:hover {\n",
              "      background-color: #E2EBFA;\n",
              "      box-shadow: 0px 1px 2px rgba(60, 64, 67, 0.3), 0px 1px 3px 1px rgba(60, 64, 67, 0.15);\n",
              "      fill: #174EA6;\n",
              "    }\n",
              "\n",
              "    .colab-df-buttons div {\n",
              "      margin-bottom: 4px;\n",
              "    }\n",
              "\n",
              "    [theme=dark] .colab-df-convert {\n",
              "      background-color: #3B4455;\n",
              "      fill: #D2E3FC;\n",
              "    }\n",
              "\n",
              "    [theme=dark] .colab-df-convert:hover {\n",
              "      background-color: #434B5C;\n",
              "      box-shadow: 0px 1px 3px 1px rgba(0, 0, 0, 0.15);\n",
              "      filter: drop-shadow(0px 1px 2px rgba(0, 0, 0, 0.3));\n",
              "      fill: #FFFFFF;\n",
              "    }\n",
              "  </style>\n",
              "\n",
              "    <script>\n",
              "      const buttonEl =\n",
              "        document.querySelector('#df-88051582-9ae3-402a-aa30-bfa135adf3e4 button.colab-df-convert');\n",
              "      buttonEl.style.display =\n",
              "        google.colab.kernel.accessAllowed ? 'block' : 'none';\n",
              "\n",
              "      async function convertToInteractive(key) {\n",
              "        const element = document.querySelector('#df-88051582-9ae3-402a-aa30-bfa135adf3e4');\n",
              "        const dataTable =\n",
              "          await google.colab.kernel.invokeFunction('convertToInteractive',\n",
              "                                                    [key], {});\n",
              "        if (!dataTable) return;\n",
              "\n",
              "        const docLinkHtml = 'Like what you see? Visit the ' +\n",
              "          '<a target=\"_blank\" href=https://colab.research.google.com/notebooks/data_table.ipynb>data table notebook</a>'\n",
              "          + ' to learn more about interactive tables.';\n",
              "        element.innerHTML = '';\n",
              "        dataTable['output_type'] = 'display_data';\n",
              "        await google.colab.output.renderOutput(dataTable, element);\n",
              "        const docLink = document.createElement('div');\n",
              "        docLink.innerHTML = docLinkHtml;\n",
              "        element.appendChild(docLink);\n",
              "      }\n",
              "    </script>\n",
              "  </div>\n",
              "\n",
              "\n",
              "<div id=\"df-f6818197-14a1-4439-8040-f6d1cb6cfcdb\">\n",
              "  <button class=\"colab-df-quickchart\" onclick=\"quickchart('df-f6818197-14a1-4439-8040-f6d1cb6cfcdb')\"\n",
              "            title=\"Suggest charts\"\n",
              "            style=\"display:none;\">\n",
              "\n",
              "<svg xmlns=\"http://www.w3.org/2000/svg\" height=\"24px\"viewBox=\"0 0 24 24\"\n",
              "     width=\"24px\">\n",
              "    <g>\n",
              "        <path d=\"M19 3H5c-1.1 0-2 .9-2 2v14c0 1.1.9 2 2 2h14c1.1 0 2-.9 2-2V5c0-1.1-.9-2-2-2zM9 17H7v-7h2v7zm4 0h-2V7h2v10zm4 0h-2v-4h2v4z\"/>\n",
              "    </g>\n",
              "</svg>\n",
              "  </button>\n",
              "\n",
              "<style>\n",
              "  .colab-df-quickchart {\n",
              "      --bg-color: #E8F0FE;\n",
              "      --fill-color: #1967D2;\n",
              "      --hover-bg-color: #E2EBFA;\n",
              "      --hover-fill-color: #174EA6;\n",
              "      --disabled-fill-color: #AAA;\n",
              "      --disabled-bg-color: #DDD;\n",
              "  }\n",
              "\n",
              "  [theme=dark] .colab-df-quickchart {\n",
              "      --bg-color: #3B4455;\n",
              "      --fill-color: #D2E3FC;\n",
              "      --hover-bg-color: #434B5C;\n",
              "      --hover-fill-color: #FFFFFF;\n",
              "      --disabled-bg-color: #3B4455;\n",
              "      --disabled-fill-color: #666;\n",
              "  }\n",
              "\n",
              "  .colab-df-quickchart {\n",
              "    background-color: var(--bg-color);\n",
              "    border: none;\n",
              "    border-radius: 50%;\n",
              "    cursor: pointer;\n",
              "    display: none;\n",
              "    fill: var(--fill-color);\n",
              "    height: 32px;\n",
              "    padding: 0;\n",
              "    width: 32px;\n",
              "  }\n",
              "\n",
              "  .colab-df-quickchart:hover {\n",
              "    background-color: var(--hover-bg-color);\n",
              "    box-shadow: 0 1px 2px rgba(60, 64, 67, 0.3), 0 1px 3px 1px rgba(60, 64, 67, 0.15);\n",
              "    fill: var(--button-hover-fill-color);\n",
              "  }\n",
              "\n",
              "  .colab-df-quickchart-complete:disabled,\n",
              "  .colab-df-quickchart-complete:disabled:hover {\n",
              "    background-color: var(--disabled-bg-color);\n",
              "    fill: var(--disabled-fill-color);\n",
              "    box-shadow: none;\n",
              "  }\n",
              "\n",
              "  .colab-df-spinner {\n",
              "    border: 2px solid var(--fill-color);\n",
              "    border-color: transparent;\n",
              "    border-bottom-color: var(--fill-color);\n",
              "    animation:\n",
              "      spin 1s steps(1) infinite;\n",
              "  }\n",
              "\n",
              "  @keyframes spin {\n",
              "    0% {\n",
              "      border-color: transparent;\n",
              "      border-bottom-color: var(--fill-color);\n",
              "      border-left-color: var(--fill-color);\n",
              "    }\n",
              "    20% {\n",
              "      border-color: transparent;\n",
              "      border-left-color: var(--fill-color);\n",
              "      border-top-color: var(--fill-color);\n",
              "    }\n",
              "    30% {\n",
              "      border-color: transparent;\n",
              "      border-left-color: var(--fill-color);\n",
              "      border-top-color: var(--fill-color);\n",
              "      border-right-color: var(--fill-color);\n",
              "    }\n",
              "    40% {\n",
              "      border-color: transparent;\n",
              "      border-right-color: var(--fill-color);\n",
              "      border-top-color: var(--fill-color);\n",
              "    }\n",
              "    60% {\n",
              "      border-color: transparent;\n",
              "      border-right-color: var(--fill-color);\n",
              "    }\n",
              "    80% {\n",
              "      border-color: transparent;\n",
              "      border-right-color: var(--fill-color);\n",
              "      border-bottom-color: var(--fill-color);\n",
              "    }\n",
              "    90% {\n",
              "      border-color: transparent;\n",
              "      border-bottom-color: var(--fill-color);\n",
              "    }\n",
              "  }\n",
              "</style>\n",
              "\n",
              "  <script>\n",
              "    async function quickchart(key) {\n",
              "      const quickchartButtonEl =\n",
              "        document.querySelector('#' + key + ' button');\n",
              "      quickchartButtonEl.disabled = true;  // To prevent multiple clicks.\n",
              "      quickchartButtonEl.classList.add('colab-df-spinner');\n",
              "      try {\n",
              "        const charts = await google.colab.kernel.invokeFunction(\n",
              "            'suggestCharts', [key], {});\n",
              "      } catch (error) {\n",
              "        console.error('Error during call to suggestCharts:', error);\n",
              "      }\n",
              "      quickchartButtonEl.classList.remove('colab-df-spinner');\n",
              "      quickchartButtonEl.classList.add('colab-df-quickchart-complete');\n",
              "    }\n",
              "    (() => {\n",
              "      let quickchartButtonEl =\n",
              "        document.querySelector('#df-f6818197-14a1-4439-8040-f6d1cb6cfcdb button');\n",
              "      quickchartButtonEl.style.display =\n",
              "        google.colab.kernel.accessAllowed ? 'block' : 'none';\n",
              "    })();\n",
              "  </script>\n",
              "</div>\n",
              "\n",
              "    </div>\n",
              "  </div>\n"
            ],
            "application/vnd.google.colaboratory.intrinsic+json": {
              "type": "dataframe",
              "summary": "{\n  \"name\": \"df\",\n  \"rows\": 8,\n  \"fields\": [\n    {\n      \"column\": \"id\",\n      \"properties\": {\n        \"dtype\": \"number\",\n        \"std\": 461014.4498110135,\n        \"min\": 2.0,\n        \"max\": 1411041.0,\n        \"num_unique_values\": 8,\n        \"samples\": [\n          754688.796065136,\n          818379.0,\n          1048575.0\n        ],\n        \"semantic_type\": \"\",\n        \"description\": \"\"\n      }\n    },\n    {\n      \"column\": \"vote_average\",\n      \"properties\": {\n        \"dtype\": \"number\",\n        \"std\": 370726.22939419845,\n        \"min\": 0.0,\n        \"max\": 1048575.0,\n        \"num_unique_values\": 6,\n        \"samples\": [\n          1048575.0,\n          2.0415602489092346,\n          10.0\n        ],\n        \"semantic_type\": \"\",\n        \"description\": \"\"\n      }\n    },\n    {\n      \"column\": \"vote_count\",\n      \"properties\": {\n        \"dtype\": \"number\",\n        \"std\": 369163.89415527176,\n        \"min\": 0.0,\n        \"max\": 1048575.0,\n        \"num_unique_values\": 6,\n        \"samples\": [\n          1048575.0,\n          20.455842452852682,\n          34495.0\n        ],\n        \"semantic_type\": \"\",\n        \"description\": \"\"\n      }\n    },\n    {\n      \"column\": \"revenue\",\n      \"properties\": {\n        \"dtype\": \"number\",\n        \"std\": 1766706001.660843,\n        \"min\": -12.0,\n        \"max\": 4999999999.0,\n        \"num_unique_values\": 6,\n        \"samples\": [\n          1048575.0,\n          760411.2047006652,\n          4999999999.0\n        ],\n        \"semantic_type\": \"\",\n        \"description\": \"\"\n      }\n    },\n    {\n      \"column\": \"runtime\",\n      \"properties\": {\n        \"dtype\": \"number\",\n        \"std\": 370024.3589155903,\n        \"min\": -28.0,\n        \"max\": 1048575.0,\n        \"num_unique_values\": 8,\n        \"samples\": [\n          48.22609636888158,\n          23.0,\n          1048575.0\n        ],\n        \"semantic_type\": \"\",\n        \"description\": \"\"\n      }\n    },\n    {\n      \"column\": \"budget\",\n      \"properties\": {\n        \"dtype\": \"number\",\n        \"std\": 353221730.7058768,\n        \"min\": 0.0,\n        \"max\": 999999999.0,\n        \"num_unique_values\": 5,\n        \"samples\": [\n          291323.16263214365,\n          999999999.0,\n          5319290.155454299\n        ],\n        \"semantic_type\": \"\",\n        \"description\": \"\"\n      }\n    },\n    {\n      \"column\": \"popularity\",\n      \"properties\": {\n        \"dtype\": \"number\",\n        \"std\": 370576.91828808124,\n        \"min\": 0.0,\n        \"max\": 1048575.0,\n        \"num_unique_values\": 7,\n        \"samples\": [\n          1048575.0,\n          1.2763928741387125,\n          0.917\n        ],\n        \"semantic_type\": \"\",\n        \"description\": \"\"\n      }\n    }\n  ]\n}"
            }
          },
          "metadata": {},
          "execution_count": 8
        }
      ]
    },
    {
      "cell_type": "markdown",
      "source": [
        "Percentage of missing values"
      ],
      "metadata": {
        "id": "a_2Ld4QByqSq"
      }
    },
    {
      "cell_type": "code",
      "source": [
        "missing_percentage=df.isna().sum().sort_values(ascending=False)/len(df)"
      ],
      "metadata": {
        "id": "6nf5-WSrwpjq"
      },
      "execution_count": 9,
      "outputs": []
    },
    {
      "cell_type": "code",
      "source": [
        "missing_percentage"
      ],
      "metadata": {
        "colab": {
          "base_uri": "https://localhost:8080/",
          "height": 743
        },
        "id": "z4GW4_tvyR_x",
        "outputId": "47282c2b-3174-402e-b091-86faf68657af"
      },
      "execution_count": 10,
      "outputs": [
        {
          "output_type": "execute_result",
          "data": {
            "text/plain": [
              "tagline                 0.854347\n",
              "keywords                0.720935\n",
              "production_companies    0.542096\n",
              "imdb_id                 0.465396\n",
              "production_countries    0.442026\n",
              "spoken_languages        0.420248\n",
              "genres                  0.395749\n",
              "overview                0.205826\n",
              "release_date            0.173394\n",
              "original_title          0.000012\n",
              "title                   0.000012\n",
              "popularity              0.000000\n",
              "vote_average            0.000000\n",
              "vote_count              0.000000\n",
              "status                  0.000000\n",
              "original_language       0.000000\n",
              "budget                  0.000000\n",
              "adult                   0.000000\n",
              "runtime                 0.000000\n",
              "revenue                 0.000000\n",
              "id                      0.000000\n",
              "dtype: float64"
            ],
            "text/html": [
              "<div>\n",
              "<style scoped>\n",
              "    .dataframe tbody tr th:only-of-type {\n",
              "        vertical-align: middle;\n",
              "    }\n",
              "\n",
              "    .dataframe tbody tr th {\n",
              "        vertical-align: top;\n",
              "    }\n",
              "\n",
              "    .dataframe thead th {\n",
              "        text-align: right;\n",
              "    }\n",
              "</style>\n",
              "<table border=\"1\" class=\"dataframe\">\n",
              "  <thead>\n",
              "    <tr style=\"text-align: right;\">\n",
              "      <th></th>\n",
              "      <th>0</th>\n",
              "    </tr>\n",
              "  </thead>\n",
              "  <tbody>\n",
              "    <tr>\n",
              "      <th>tagline</th>\n",
              "      <td>0.854347</td>\n",
              "    </tr>\n",
              "    <tr>\n",
              "      <th>keywords</th>\n",
              "      <td>0.720935</td>\n",
              "    </tr>\n",
              "    <tr>\n",
              "      <th>production_companies</th>\n",
              "      <td>0.542096</td>\n",
              "    </tr>\n",
              "    <tr>\n",
              "      <th>imdb_id</th>\n",
              "      <td>0.465396</td>\n",
              "    </tr>\n",
              "    <tr>\n",
              "      <th>production_countries</th>\n",
              "      <td>0.442026</td>\n",
              "    </tr>\n",
              "    <tr>\n",
              "      <th>spoken_languages</th>\n",
              "      <td>0.420248</td>\n",
              "    </tr>\n",
              "    <tr>\n",
              "      <th>genres</th>\n",
              "      <td>0.395749</td>\n",
              "    </tr>\n",
              "    <tr>\n",
              "      <th>overview</th>\n",
              "      <td>0.205826</td>\n",
              "    </tr>\n",
              "    <tr>\n",
              "      <th>release_date</th>\n",
              "      <td>0.173394</td>\n",
              "    </tr>\n",
              "    <tr>\n",
              "      <th>original_title</th>\n",
              "      <td>0.000012</td>\n",
              "    </tr>\n",
              "    <tr>\n",
              "      <th>title</th>\n",
              "      <td>0.000012</td>\n",
              "    </tr>\n",
              "    <tr>\n",
              "      <th>popularity</th>\n",
              "      <td>0.000000</td>\n",
              "    </tr>\n",
              "    <tr>\n",
              "      <th>vote_average</th>\n",
              "      <td>0.000000</td>\n",
              "    </tr>\n",
              "    <tr>\n",
              "      <th>vote_count</th>\n",
              "      <td>0.000000</td>\n",
              "    </tr>\n",
              "    <tr>\n",
              "      <th>status</th>\n",
              "      <td>0.000000</td>\n",
              "    </tr>\n",
              "    <tr>\n",
              "      <th>original_language</th>\n",
              "      <td>0.000000</td>\n",
              "    </tr>\n",
              "    <tr>\n",
              "      <th>budget</th>\n",
              "      <td>0.000000</td>\n",
              "    </tr>\n",
              "    <tr>\n",
              "      <th>adult</th>\n",
              "      <td>0.000000</td>\n",
              "    </tr>\n",
              "    <tr>\n",
              "      <th>runtime</th>\n",
              "      <td>0.000000</td>\n",
              "    </tr>\n",
              "    <tr>\n",
              "      <th>revenue</th>\n",
              "      <td>0.000000</td>\n",
              "    </tr>\n",
              "    <tr>\n",
              "      <th>id</th>\n",
              "      <td>0.000000</td>\n",
              "    </tr>\n",
              "  </tbody>\n",
              "</table>\n",
              "</div><br><label><b>dtype:</b> float64</label>"
            ]
          },
          "metadata": {},
          "execution_count": 10
        }
      ]
    },
    {
      "cell_type": "code",
      "source": [
        "missing_percentage[missing_percentage!=0].plot(kind='barh')"
      ],
      "metadata": {
        "colab": {
          "base_uri": "https://localhost:8080/",
          "height": 447
        },
        "id": "cqTFQu2t5SSl",
        "outputId": "77c7dd62-5fd0-4de3-c14e-e1c00aad9968"
      },
      "execution_count": 11,
      "outputs": [
        {
          "output_type": "execute_result",
          "data": {
            "text/plain": [
              "<Axes: >"
            ]
          },
          "metadata": {},
          "execution_count": 11
        },
        {
          "output_type": "display_data",
          "data": {
            "text/plain": [
              "<Figure size 640x480 with 1 Axes>"
            ],
            "image/png": "[encoded data removed]"
          },
          "metadata": {}
        }
      ]
    },
    {
      "cell_type": "markdown",
      "source": [
        "## Exploratory Data Analysis and Visualization"
      ],
      "metadata": {
        "id": "9KH-rY716W9o"
      }
    },
    {
      "cell_type": "markdown",
      "source": [
        "Columns to use\n",
        "\n",
        "1. Vote Average\n",
        "2. Revenue\n",
        "3. Budget\n",
        "4. Popularity\n",
        "5. Language\n",
        "6. Genre"
      ],
      "metadata": {
        "id": "lY49xZW96jfL"
      }
    },
    {
      "cell_type": "code",
      "source": [
        "df.columns"
      ],
      "metadata": {
        "colab": {
          "base_uri": "https://localhost:8080/"
        },
        "id": "EpBApS865dNR",
        "outputId": "464be769-0444-419e-a4b7-ef79cd21d299"
      },
      "execution_count": 12,
      "outputs": [
        {
          "output_type": "execute_result",
          "data": {
            "text/plain": [
              "Index(['id', 'title', 'vote_average', 'vote_count', 'status', 'release_date',\n",
              "       'revenue', 'runtime', 'adult', 'budget', 'imdb_id', 'original_language',\n",
              "       'original_title', 'overview', 'popularity', 'tagline', 'genres',\n",
              "       'production_companies', 'production_countries', 'spoken_languages',\n",
              "       'keywords'],\n",
              "      dtype='object')"
            ]
          },
          "metadata": {},
          "execution_count": 12
        }
      ]
    },
    {
      "cell_type": "markdown",
      "source": [
        "### Splitting the genre, making a new column named genres_list and counting the genres"
      ],
      "metadata": {
        "id": "D8GsaIChXpPe"
      }
    },
    {
      "cell_type": "code",
      "source": [
        "df['genres_list']=df['genres'].str.split(',')"
      ],
      "metadata": {
        "id": "Otx74x1NJsrX"
      },
      "execution_count": 13,
      "outputs": []
    },
    {
      "cell_type": "code",
      "source": [
        "df_exploded = df.explode('genres_list')\n",
        "\n",
        "# Count occurrences of each genre\n",
        "genre_counts = df_exploded['genres_list'].value_counts()\n",
        "\n",
        "# Display the result\n",
        "print(genre_counts)"
      ],
      "metadata": {
        "colab": {
          "base_uri": "https://localhost:8080/"
        },
        "id": "H896heu6S6l6",
        "outputId": "9566e140-4933-47ea-d313-787c8ce3f83a"
      },
      "execution_count": 14,
      "outputs": [
        {
          "output_type": "stream",
          "name": "stdout",
          "text": [
            "genres_list\n",
            "Drama               153506\n",
            "Documentary         138890\n",
            "Comedy               93324\n",
            " Drama               58877\n",
            "Animation            44879\n",
            " Comedy              38783\n",
            "Horror               35490\n",
            " Romance             31930\n",
            "Music                30488\n",
            " Thriller            28254\n",
            "Action               28138\n",
            "Romance              18541\n",
            " Crime               17366\n",
            " Family              16824\n",
            "Thriller             16751\n",
            " TV Movie            16625\n",
            " Horror              15314\n",
            "Crime                14639\n",
            " Music               14559\n",
            " Action              14446\n",
            " Fantasy             14334\n",
            " Adventure           13701\n",
            " Mystery             13253\n",
            " Science Fiction     11929\n",
            " History             11485\n",
            "Family                9566\n",
            " Documentary          8867\n",
            "Adventure             8801\n",
            "Science Fiction       8395\n",
            " Animation            7896\n",
            "Fantasy               7260\n",
            " War                  6494\n",
            "TV Movie              6012\n",
            "Mystery               5857\n",
            "Western               5769\n",
            "History               3957\n",
            "War                   3340\n",
            " Western              2564\n",
            "Name: count, dtype: int64\n"
          ]
        }
      ]
    },
    {
      "cell_type": "code",
      "source": [
        "import seaborn as sns\n",
        "sns.set_style('darkgrid')"
      ],
      "metadata": {
        "id": "pISRpVwAT8eq"
      },
      "execution_count": 15,
      "outputs": []
    },
    {
      "cell_type": "code",
      "source": [
        "high_genre= genre_counts[genre_counts>=15000]\n",
        "low_genre= genre_counts[genre_counts<15000]"
      ],
      "metadata": {
        "id": "i5i3aSXGHOqi"
      },
      "execution_count": 16,
      "outputs": []
    },
    {
      "cell_type": "code",
      "source": [
        "sns.histplot(high_genre,bins=20)"
      ],
      "metadata": {
        "colab": {
          "base_uri": "https://localhost:8080/",
          "height": 466
        },
        "id": "AS1INHObJS9z",
        "outputId": "37266dd5-d2c7-4c4e-e0e6-e7e2766087a0"
      },
      "execution_count": 17,
      "outputs": [
        {
          "output_type": "execute_result",
          "data": {
            "text/plain": [
              "<Axes: xlabel='count', ylabel='Count'>"
            ]
          },
          "metadata": {},
          "execution_count": 17
        },
        {
          "output_type": "display_data",
          "data": {
            "text/plain": [
              "<Figure size 640x480 with 1 Axes>"
            ],
            "image/png": "[encoded data removed]"
          },
          "metadata": {}
        }
      ]
    },
    {
      "cell_type": "code",
      "source": [
        "sns.histplot(low_genre)"
      ],
      "metadata": {
        "colab": {
          "base_uri": "https://localhost:8080/",
          "height": 466
        },
        "id": "AjQ8dsE7Jwig",
        "outputId": "68a57593-757c-41ee-f71f-6dd9291a24fe"
      },
      "execution_count": 18,
      "outputs": [
        {
          "output_type": "execute_result",
          "data": {
            "text/plain": [
              "<Axes: xlabel='count', ylabel='Count'>"
            ]
          },
          "metadata": {},
          "execution_count": 18
        },
        {
          "output_type": "display_data",
          "data": {
            "text/plain": [
              "<Figure size 640x480 with 1 Axes>"
            ],
            "image/png": "[encoded data removed]"
          },
          "metadata": {}
        }
      ]
    },
    {
      "cell_type": "markdown",
      "source": [
        "### Finding the original language and their quantity"
      ],
      "metadata": {
        "id": "3BdEEtaxYQHL"
      }
    },
    {
      "cell_type": "code",
      "source": [
        "df.original_language [:100]\n",
        "len(df.original_language)"
      ],
      "metadata": {
        "colab": {
          "base_uri": "https://localhost:8080/"
        },
        "id": "492ARO5k6r5E",
        "outputId": "6a5f56b2-f0ef-4439-dee4-2048d267849a"
      },
      "execution_count": 19,
      "outputs": [
        {
          "output_type": "execute_result",
          "data": {
            "text/plain": [
              "1048575"
            ]
          },
          "metadata": {},
          "execution_count": 19
        }
      ]
    },
    {
      "cell_type": "code",
      "source": [
        "original_language=df.original_language.value_counts()\n",
        "print(original_language)"
      ],
      "metadata": {
        "colab": {
          "base_uri": "https://localhost:8080/"
        },
        "id": "PFq6qQXeBbzq",
        "outputId": "49ea871d-5bc6-4fbf-ceaf-b69d9d899ffe"
      },
      "execution_count": 20,
      "outputs": [
        {
          "output_type": "stream",
          "name": "stdout",
          "text": [
            "original_language\n",
            "en    566257\n",
            "fr     62073\n",
            "es     52898\n",
            "de     49717\n",
            "ja     45597\n",
            "       ...  \n",
            "hz         1\n",
            "ch         1\n",
            "rn         1\n",
            "an         1\n",
            "gv         1\n",
            "Name: count, Length: 172, dtype: int64\n"
          ]
        }
      ]
    },
    {
      "cell_type": "code",
      "source": [
        "widely_used_language= original_language[original_language>=10000]\n",
        "less_used_language= original_language[original_language<1000]\n",
        "moderately_used_language=original_language[(original_language>=1000) & (original_language<10000)]"
      ],
      "metadata": {
        "id": "-aZdWqKFiLHa"
      },
      "execution_count": 21,
      "outputs": []
    },
    {
      "cell_type": "code",
      "source": [
        "sns.histplot(widely_used_language,log_scale=True,bins=10)"
      ],
      "metadata": {
        "colab": {
          "base_uri": "https://localhost:8080/",
          "height": 471
        },
        "id": "R_uAZkJXi7Sq",
        "outputId": "8a933a3a-2eeb-43bf-90be-facc49d8105a"
      },
      "execution_count": 22,
      "outputs": [
        {
          "output_type": "execute_result",
          "data": {
            "text/plain": [
              "<Axes: xlabel='count', ylabel='Count'>"
            ]
          },
          "metadata": {},
          "execution_count": 22
        },
        {
          "output_type": "display_data",
          "data": {
            "text/plain": [
              "<Figure size 640x480 with 1 Axes>"
            ],
            "image/png": "[encoded data removed]"
          },
          "metadata": {}
        }
      ]
    },
    {
      "cell_type": "code",
      "source": [
        "len(widely_used_language)"
      ],
      "metadata": {
        "colab": {
          "base_uri": "https://localhost:8080/"
        },
        "id": "VCDZ7MfJi-8L",
        "outputId": "1462e2e1-815a-493c-cfbe-5d47837d0942"
      },
      "execution_count": 23,
      "outputs": [
        {
          "output_type": "execute_result",
          "data": {
            "text/plain": [
              "10"
            ]
          },
          "metadata": {},
          "execution_count": 23
        }
      ]
    },
    {
      "cell_type": "code",
      "source": [
        "len(less_used_language)"
      ],
      "metadata": {
        "colab": {
          "base_uri": "https://localhost:8080/"
        },
        "id": "R4DYBPxvjCft",
        "outputId": "5e8302d5-3141-4c6c-d377-3156c01060b7"
      },
      "execution_count": 24,
      "outputs": [
        {
          "output_type": "execute_result",
          "data": {
            "text/plain": [
              "126"
            ]
          },
          "metadata": {},
          "execution_count": 24
        }
      ]
    },
    {
      "cell_type": "code",
      "source": [
        "sns.histplot(less_used_language,log_scale=True)"
      ],
      "metadata": {
        "colab": {
          "base_uri": "https://localhost:8080/",
          "height": 471
        },
        "id": "cPrjWis3jiw3",
        "outputId": "25f10a28-3ef1-4495-e973-fb528c21f21d"
      },
      "execution_count": 25,
      "outputs": [
        {
          "output_type": "execute_result",
          "data": {
            "text/plain": [
              "<Axes: xlabel='count', ylabel='Count'>"
            ]
          },
          "metadata": {},
          "execution_count": 25
        },
        {
          "output_type": "display_data",
          "data": {
            "text/plain": [
              "<Figure size 640x480 with 1 Axes>"
            ],
            "image/png": "[encoded data removed]"
          },
          "metadata": {}
        }
      ]
    },
    {
      "cell_type": "code",
      "source": [
        "len(moderately_used_language)"
      ],
      "metadata": {
        "colab": {
          "base_uri": "https://localhost:8080/"
        },
        "id": "9zq_VIhXjnYP",
        "outputId": "5ab71b91-7be2-424e-cd7d-5e263578c0f7"
      },
      "execution_count": 26,
      "outputs": [
        {
          "output_type": "execute_result",
          "data": {
            "text/plain": [
              "36"
            ]
          },
          "metadata": {},
          "execution_count": 26
        }
      ]
    },
    {
      "cell_type": "code",
      "source": [
        "sns.histplot(moderately_used_language,log_scale=True,bins=15)"
      ],
      "metadata": {
        "colab": {
          "base_uri": "https://localhost:8080/",
          "height": 471
        },
        "id": "2LlapOAOlyNF",
        "outputId": "59a25a6e-8d30-4f7f-f2ae-ac0ff709bfda"
      },
      "execution_count": 27,
      "outputs": [
        {
          "output_type": "execute_result",
          "data": {
            "text/plain": [
              "<Axes: xlabel='count', ylabel='Count'>"
            ]
          },
          "metadata": {},
          "execution_count": 27
        },
        {
          "output_type": "display_data",
          "data": {
            "text/plain": [
              "<Figure size 640x480 with 1 Axes>"
            ],
            "image/png": "[encoded data removed]"
          },
          "metadata": {}
        }
      ]
    },
    {
      "cell_type": "markdown",
      "source": [
        "### Analyzing the popularity of the movies"
      ],
      "metadata": {
        "id": "_4SsNnliK-Ky"
      }
    },
    {
      "cell_type": "code",
      "source": [
        "popularity= df.popularity.value_counts()\n",
        "print(popularity)\n",
        "len(popularity)"
      ],
      "metadata": {
        "colab": {
          "base_uri": "https://localhost:8080/"
        },
        "id": "fRDJqWJOl4pq",
        "outputId": "90da42b0-d987-4e93-8fd0-7b10e6aaa4cd"
      },
      "execution_count": 28,
      "outputs": [
        {
          "output_type": "stream",
          "name": "stdout",
          "text": [
            "popularity\n",
            "0.600     521447\n",
            "0.000     137908\n",
            "1.400      28971\n",
            "0.840       8144\n",
            "0.650       3749\n",
            "           ...  \n",
            "21.257         1\n",
            "31.749         1\n",
            "16.785         1\n",
            "13.365         1\n",
            "16.820         1\n",
            "Name: count, Length: 19833, dtype: int64\n"
          ]
        },
        {
          "output_type": "execute_result",
          "data": {
            "text/plain": [
              "19833"
            ]
          },
          "metadata": {},
          "execution_count": 28
        }
      ]
    },
    {
      "cell_type": "code",
      "source": [
        "print(df.popularity)"
      ],
      "metadata": {
        "colab": {
          "base_uri": "https://localhost:8080/"
        },
        "id": "f-3bOmmaMOJ8",
        "outputId": "75d5e5e5-3d5d-472a-d799-a7527068268e"
      },
      "execution_count": 29,
      "outputs": [
        {
          "output_type": "stream",
          "name": "stdout",
          "text": [
            "0           83.952\n",
            "1          140.241\n",
            "2          130.643\n",
            "3           79.932\n",
            "4           98.082\n",
            "            ...   \n",
            "1048570      0.600\n",
            "1048571      0.600\n",
            "1048572      0.600\n",
            "1048573      0.600\n",
            "1048574      0.600\n",
            "Name: popularity, Length: 1048575, dtype: float64\n"
          ]
        }
      ]
    },
    {
      "cell_type": "code",
      "source": [],
      "metadata": {
        "id": "LOmBsFVqNbYy"
      },
      "execution_count": 29,
      "outputs": []
    },
    {
      "cell_type": "code",
      "source": [
        "# Convert the popularity Series into a DataFrame\n",
        "popularity_df = df.popularity.value_counts().reset_index()\n",
        "\n",
        "# Rename the columns for clarity\n",
        "popularity_df.columns = ['popularity', 'count']\n",
        "\n",
        "# Display the resulting DataFrame\n",
        "print(popularity_df)\n"
      ],
      "metadata": {
        "colab": {
          "base_uri": "https://localhost:8080/"
        },
        "id": "H-_1EJdYNH-d",
        "outputId": "2e38ca7b-ade8-453a-d472-98d6d4fc1c64"
      },
      "execution_count": 30,
      "outputs": [
        {
          "output_type": "stream",
          "name": "stdout",
          "text": [
            "       popularity   count\n",
            "0           0.600  521447\n",
            "1           0.000  137908\n",
            "2           1.400   28971\n",
            "3           0.840    8144\n",
            "4           0.650    3749\n",
            "...           ...     ...\n",
            "19828      21.257       1\n",
            "19829      31.749       1\n",
            "19830      16.785       1\n",
            "19831      13.365       1\n",
            "19832      16.820       1\n",
            "\n",
            "[19833 rows x 2 columns]\n"
          ]
        }
      ]
    },
    {
      "cell_type": "code",
      "source": [
        "greater_than_2500 = popularity_df[popularity_df['count'] > 2500]\n",
        "less_or_equal_2500 = popularity_df[(popularity_df['count'] < 2500)&(popularity_df['count'] >1000)]\n",
        "equals_to_1 = popularity_df[popularity_df['count'] ==1]\n",
        "\n",
        "# Display the resulting DataFrames\n",
        "print(\"Data with count > 2500:\")\n",
        "print(greater_than_2500)\n",
        "\n",
        "print(\"\\nData with count <= 2500:\")\n",
        "print(less_or_equal_2500)\n",
        "\n",
        "print(equals_to_1)"
      ],
      "metadata": {
        "colab": {
          "base_uri": "https://localhost:8080/"
        },
        "id": "d8VirU4dWeYU",
        "outputId": "1c3c7bea-f377-476c-afc2-eca2f3a1e9ce"
      },
      "execution_count": 31,
      "outputs": [
        {
          "output_type": "stream",
          "name": "stdout",
          "text": [
            "Data with count > 2500:\n",
            "   popularity   count\n",
            "0       0.600  521447\n",
            "1       0.000  137908\n",
            "2       1.400   28971\n",
            "3       0.840    8144\n",
            "4       0.650    3749\n",
            "5       0.841    3093\n",
            "\n",
            "Data with count <= 2500:\n",
            "    popularity  count\n",
            "6        0.900   2012\n",
            "7        0.651   1723\n",
            "8        0.621   1524\n",
            "9        1.090   1501\n",
            "10       0.620   1359\n",
            "11       0.626   1350\n",
            "12       0.655   1338\n",
            "13       1.091   1277\n",
            "14       0.627   1190\n",
            "15       1.960   1165\n",
            "16       1.150   1144\n",
            "17       0.654   1089\n",
            "18       0.901   1079\n",
            "19       0.842   1012\n",
            "       popularity  count\n",
            "11902      21.208      1\n",
            "11903      18.924      1\n",
            "11904      23.081      1\n",
            "11905      52.083      1\n",
            "11906      62.293      1\n",
            "...           ...    ...\n",
            "19828      21.257      1\n",
            "19829      31.749      1\n",
            "19830      16.785      1\n",
            "19831      13.365      1\n",
            "19832      16.820      1\n",
            "\n",
            "[7931 rows x 2 columns]\n"
          ]
        }
      ]
    },
    {
      "cell_type": "code",
      "source": [
        "import matplotlib.pyplot as plt"
      ],
      "metadata": {
        "id": "4o8pJN3TNH6w"
      },
      "execution_count": 32,
      "outputs": []
    },
    {
      "cell_type": "code",
      "source": [
        "plt.figure(figsize=(8, 6))\n",
        "sns.barplot(x='popularity', y='count', data=greater_than_2500)\n",
        "plt.title(\"Popularity with Count > 2500\")\n",
        "plt.xlabel(\"Popularity\")\n",
        "plt.ylabel(\"Count\")\n",
        "plt.xticks(rotation=45)\n",
        "plt.tight_layout()  # Adjust layout for clarity\n",
        "plt.show()  # Show the first plot"
      ],
      "metadata": {
        "id": "7HGFchiPNH3Q",
        "colab": {
          "base_uri": "https://localhost:8080/",
          "height": 607
        },
        "outputId": "b7309980-3760-4998-e969-71443b5a8193"
      },
      "execution_count": 33,
      "outputs": [
        {
          "output_type": "display_data",
          "data": {
            "text/plain": [
              "<Figure size 800x600 with 1 Axes>"
            ],
            "image/png": "[encoded data removed]"
          },
          "metadata": {}
        }
      ]
    },
    {
      "cell_type": "code",
      "source": [
        "plt.figure(figsize=(8, 6))\n",
        "sns.barplot(x='popularity', y='count', data=less_or_equal_2500)\n",
        "plt.title(\"Popularity with Count <= 2500\")\n",
        "plt.xlabel(\"Popularity\")\n",
        "plt.ylabel(\"Count\")\n",
        "plt.xticks(rotation=45)\n",
        "plt.tight_layout()  # Adjust layout for clarity\n",
        "plt.show()  # Show the second plot"
      ],
      "metadata": {
        "id": "XQQyuMzSNHml",
        "colab": {
          "base_uri": "https://localhost:8080/",
          "height": 607
        },
        "outputId": "db267e74-dd2f-4b4a-9d9a-e24d664e2886"
      },
      "execution_count": 34,
      "outputs": [
        {
          "output_type": "display_data",
          "data": {
            "text/plain": [
              "<Figure size 800x600 with 1 Axes>"
            ],
            "image/png": "[encoded data removed]"
          },
          "metadata": {}
        }
      ]
    },
    {
      "cell_type": "markdown",
      "source": [
        "There is about 19,000 unique popularity ratings and about 800 of them have the count 1. So, they are neglected."
      ],
      "metadata": {
        "id": "kkAUwCOC1SYM"
      }
    },
    {
      "cell_type": "code",
      "source": [
        "df.vote_average"
      ],
      "metadata": {
        "id": "KZzz60bCf74x",
        "colab": {
          "base_uri": "https://localhost:8080/",
          "height": 458
        },
        "outputId": "64026ff7-f0b6-462c-df14-c0e65000e7b5"
      },
      "execution_count": 35,
      "outputs": [
        {
          "output_type": "execute_result",
          "data": {
            "text/plain": [
              "0          8.364\n",
              "1          8.417\n",
              "2          8.512\n",
              "3          7.573\n",
              "4          7.710\n",
              "           ...  \n",
              "1048570    0.000\n",
              "1048571    0.000\n",
              "1048572    0.000\n",
              "1048573    0.000\n",
              "1048574    0.000\n",
              "Name: vote_average, Length: 1048575, dtype: float64"
            ],
            "text/html": [
              "<div>\n",
              "<style scoped>\n",
              "    .dataframe tbody tr th:only-of-type {\n",
              "        vertical-align: middle;\n",
              "    }\n",
              "\n",
              "    .dataframe tbody tr th {\n",
              "        vertical-align: top;\n",
              "    }\n",
              "\n",
              "    .dataframe thead th {\n",
              "        text-align: right;\n",
              "    }\n",
              "</style>\n",
              "<table border=\"1\" class=\"dataframe\">\n",
              "  <thead>\n",
              "    <tr style=\"text-align: right;\">\n",
              "      <th></th>\n",
              "      <th>vote_average</th>\n",
              "    </tr>\n",
              "  </thead>\n",
              "  <tbody>\n",
              "    <tr>\n",
              "      <th>0</th>\n",
              "      <td>8.364</td>\n",
              "    </tr>\n",
              "    <tr>\n",
              "      <th>1</th>\n",
              "      <td>8.417</td>\n",
              "    </tr>\n",
              "    <tr>\n",
              "      <th>2</th>\n",
              "      <td>8.512</td>\n",
              "    </tr>\n",
              "    <tr>\n",
              "      <th>3</th>\n",
              "      <td>7.573</td>\n",
              "    </tr>\n",
              "    <tr>\n",
              "      <th>4</th>\n",
              "      <td>7.710</td>\n",
              "    </tr>\n",
              "    <tr>\n",
              "      <th>...</th>\n",
              "      <td>...</td>\n",
              "    </tr>\n",
              "    <tr>\n",
              "      <th>1048570</th>\n",
              "      <td>0.000</td>\n",
              "    </tr>\n",
              "    <tr>\n",
              "      <th>1048571</th>\n",
              "      <td>0.000</td>\n",
              "    </tr>\n",
              "    <tr>\n",
              "      <th>1048572</th>\n",
              "      <td>0.000</td>\n",
              "    </tr>\n",
              "    <tr>\n",
              "      <th>1048573</th>\n",
              "      <td>0.000</td>\n",
              "    </tr>\n",
              "    <tr>\n",
              "      <th>1048574</th>\n",
              "      <td>0.000</td>\n",
              "    </tr>\n",
              "  </tbody>\n",
              "</table>\n",
              "<p>1048575 rows × 1 columns</p>\n",
              "</div><br><label><b>dtype:</b> float64</label>"
            ]
          },
          "metadata": {},
          "execution_count": 35
        }
      ]
    },
    {
      "cell_type": "code",
      "source": [
        "voteaverage_df = pd.DataFrame(df['vote_average'])"
      ],
      "metadata": {
        "id": "SiQ1rIlwf9We"
      },
      "execution_count": 36,
      "outputs": []
    },
    {
      "cell_type": "code",
      "source": [
        "count_of_vote=voteaverage_df.vote_average.value_counts()\n",
        "\n",
        "high_count=count_of_vote[count_of_vote>10000]\n",
        "low_count=count_of_vote[(count_of_vote<=10000)&(count_of_vote>500)]\n",
        "very_low_count=count_of_vote[(count_of_vote<=500)&(count_of_vote>50)]"
      ],
      "metadata": {
        "id": "KUrHaMYDf9T2"
      },
      "execution_count": 37,
      "outputs": []
    },
    {
      "cell_type": "code",
      "source": [
        "sns.histplot(high_count)"
      ],
      "metadata": {
        "colab": {
          "base_uri": "https://localhost:8080/",
          "height": 466
        },
        "id": "qAGFbjbzNDSt",
        "outputId": "ac849935-c5de-4070-bfb0-7a2d0ef40bf2"
      },
      "execution_count": 38,
      "outputs": [
        {
          "output_type": "execute_result",
          "data": {
            "text/plain": [
              "<Axes: xlabel='count', ylabel='Count'>"
            ]
          },
          "metadata": {},
          "execution_count": 38
        },
        {
          "output_type": "display_data",
          "data": {
            "text/plain": [
              "<Figure size 640x480 with 1 Axes>"
            ],
            "image/png": "[encoded data removed]"
          },
          "metadata": {}
        }
      ]
    },
    {
      "cell_type": "markdown",
      "source": [
        "A huge difference can be seen among the lines describng how far off the 0 rating is from the rest."
      ],
      "metadata": {
        "id": "ALhf0StERbUp"
      }
    },
    {
      "cell_type": "code",
      "source": [
        "sns.histplot(low_count)"
      ],
      "metadata": {
        "colab": {
          "base_uri": "https://localhost:8080/",
          "height": 466
        },
        "id": "AsqQACYcRpX2",
        "outputId": "c560b394-bf8e-4060-d9d8-56bc04e356ae"
      },
      "execution_count": 39,
      "outputs": [
        {
          "output_type": "execute_result",
          "data": {
            "text/plain": [
              "<Axes: xlabel='count', ylabel='Count'>"
            ]
          },
          "metadata": {},
          "execution_count": 39
        },
        {
          "output_type": "display_data",
          "data": {
            "text/plain": [
              "<Figure size 640x480 with 1 Axes>"
            ],
            "image/png": "[encoded data removed]"
          },
          "metadata": {}
        }
      ]
    },
    {
      "cell_type": "code",
      "source": [
        "sns.histplot(very_low_count)"
      ],
      "metadata": {
        "colab": {
          "base_uri": "https://localhost:8080/",
          "height": 466
        },
        "id": "8_A_35PlRpU1",
        "outputId": "717d7ba1-55d6-47c6-89e9-93a28b9e3cf9"
      },
      "execution_count": 40,
      "outputs": [
        {
          "output_type": "execute_result",
          "data": {
            "text/plain": [
              "<Axes: xlabel='count', ylabel='Count'>"
            ]
          },
          "metadata": {},
          "execution_count": 40
        },
        {
          "output_type": "display_data",
          "data": {
            "text/plain": [
              "<Figure size 640x480 with 1 Axes>"
            ],
            "image/png": "[encoded data removed]"
          },
          "metadata": {}
        }
      ]
    },
    {
      "cell_type": "markdown",
      "source": [
        "### Analyziging Budget for the movies"
      ],
      "metadata": {
        "id": "Ha1NP5rz4Vpx"
      }
    },
    {
      "cell_type": "markdown",
      "source": [
        "Data of the first 5,000 is analyzed"
      ],
      "metadata": {
        "id": "AGNov0d85A2D"
      }
    },
    {
      "cell_type": "code",
      "source": [
        "count_budget=df.budget[:5000].value_counts()"
      ],
      "metadata": {
        "id": "oh7kZZYkRpEf"
      },
      "execution_count": 49,
      "outputs": []
    },
    {
      "cell_type": "code",
      "source": [
        "high_budget_count=count_budget[count_budget>100]\n",
        "high_budget_count"
      ],
      "metadata": {
        "colab": {
          "base_uri": "https://localhost:8080/",
          "height": 429
        },
        "id": "jbDPszWH5Tz0",
        "outputId": "19b0bead-da3b-4d97-800e-f1052ccc8fc6"
      },
      "execution_count": 53,
      "outputs": [
        {
          "output_type": "execute_result",
          "data": {
            "text/plain": [
              "budget\n",
              "0           818\n",
              "30000000    156\n",
              "20000000    152\n",
              "40000000    138\n",
              "25000000    136\n",
              "15000000    132\n",
              "50000000    117\n",
              "10000000    107\n",
              "35000000    105\n",
              "60000000    104\n",
              "Name: count, dtype: int64"
            ],
            "text/html": [
              "<div>\n",
              "<style scoped>\n",
              "    .dataframe tbody tr th:only-of-type {\n",
              "        vertical-align: middle;\n",
              "    }\n",
              "\n",
              "    .dataframe tbody tr th {\n",
              "        vertical-align: top;\n",
              "    }\n",
              "\n",
              "    .dataframe thead th {\n",
              "        text-align: right;\n",
              "    }\n",
              "</style>\n",
              "<table border=\"1\" class=\"dataframe\">\n",
              "  <thead>\n",
              "    <tr style=\"text-align: right;\">\n",
              "      <th></th>\n",
              "      <th>count</th>\n",
              "    </tr>\n",
              "    <tr>\n",
              "      <th>budget</th>\n",
              "      <th></th>\n",
              "    </tr>\n",
              "  </thead>\n",
              "  <tbody>\n",
              "    <tr>\n",
              "      <th>0</th>\n",
              "      <td>818</td>\n",
              "    </tr>\n",
              "    <tr>\n",
              "      <th>30000000</th>\n",
              "      <td>156</td>\n",
              "    </tr>\n",
              "    <tr>\n",
              "      <th>20000000</th>\n",
              "      <td>152</td>\n",
              "    </tr>\n",
              "    <tr>\n",
              "      <th>40000000</th>\n",
              "      <td>138</td>\n",
              "    </tr>\n",
              "    <tr>\n",
              "      <th>25000000</th>\n",
              "      <td>136</td>\n",
              "    </tr>\n",
              "    <tr>\n",
              "      <th>15000000</th>\n",
              "      <td>132</td>\n",
              "    </tr>\n",
              "    <tr>\n",
              "      <th>50000000</th>\n",
              "      <td>117</td>\n",
              "    </tr>\n",
              "    <tr>\n",
              "      <th>10000000</th>\n",
              "      <td>107</td>\n",
              "    </tr>\n",
              "    <tr>\n",
              "      <th>35000000</th>\n",
              "      <td>105</td>\n",
              "    </tr>\n",
              "    <tr>\n",
              "      <th>60000000</th>\n",
              "      <td>104</td>\n",
              "    </tr>\n",
              "  </tbody>\n",
              "</table>\n",
              "</div><br><label><b>dtype:</b> int64</label>"
            ]
          },
          "metadata": {},
          "execution_count": 53
        }
      ]
    },
    {
      "cell_type": "code",
      "source": [],
      "metadata": {
        "id": "jIMXfttc5Twc"
      },
      "execution_count": null,
      "outputs": []
    },
    {
      "cell_type": "code",
      "source": [
        "sns.histplot(high_budget_count)"
      ],
      "metadata": {
        "colab": {
          "base_uri": "https://localhost:8080/",
          "height": 466
        },
        "id": "plOy_zeY5GaZ",
        "outputId": "a92c3e40-193e-4953-d66a-1073e146320c"
      },
      "execution_count": 52,
      "outputs": [
        {
          "output_type": "execute_result",
          "data": {
            "text/plain": [
              "<Axes: xlabel='count', ylabel='Count'>"
            ]
          },
          "metadata": {},
          "execution_count": 52
        },
        {
          "output_type": "display_data",
          "data": {
            "text/plain": [
              "<Figure size 640x480 with 1 Axes>"
            ],
            "image/png": "[encoded data removed]"
          },
          "metadata": {}
        }
      ]
    },
    {
      "cell_type": "code",
      "source": [
        "df.budget[:5000]"
      ],
      "metadata": {
        "colab": {
          "base_uri": "https://localhost:8080/",
          "height": 458
        },
        "id": "1qGWKwiBBXQl",
        "outputId": "2a7cf206-9b7b-4493-fe95-969bf0e3bfa6"
      },
      "execution_count": 73,
      "outputs": [
        {
          "output_type": "execute_result",
          "data": {
            "text/plain": [
              "0       160000000\n",
              "1       165000000\n",
              "2       185000000\n",
              "3       237000000\n",
              "4       220000000\n",
              "          ...    \n",
              "4995            0\n",
              "4996      6900000\n",
              "4997            0\n",
              "4998            0\n",
              "4999     55000000\n",
              "Name: budget, Length: 5000, dtype: int64"
            ],
            "text/html": [
              "<div>\n",
              "<style scoped>\n",
              "    .dataframe tbody tr th:only-of-type {\n",
              "        vertical-align: middle;\n",
              "    }\n",
              "\n",
              "    .dataframe tbody tr th {\n",
              "        vertical-align: top;\n",
              "    }\n",
              "\n",
              "    .dataframe thead th {\n",
              "        text-align: right;\n",
              "    }\n",
              "</style>\n",
              "<table border=\"1\" class=\"dataframe\">\n",
              "  <thead>\n",
              "    <tr style=\"text-align: right;\">\n",
              "      <th></th>\n",
              "      <th>budget</th>\n",
              "    </tr>\n",
              "  </thead>\n",
              "  <tbody>\n",
              "    <tr>\n",
              "      <th>0</th>\n",
              "      <td>160000000</td>\n",
              "    </tr>\n",
              "    <tr>\n",
              "      <th>1</th>\n",
              "      <td>165000000</td>\n",
              "    </tr>\n",
              "    <tr>\n",
              "      <th>2</th>\n",
              "      <td>185000000</td>\n",
              "    </tr>\n",
              "    <tr>\n",
              "      <th>3</th>\n",
              "      <td>237000000</td>\n",
              "    </tr>\n",
              "    <tr>\n",
              "      <th>4</th>\n",
              "      <td>220000000</td>\n",
              "    </tr>\n",
              "    <tr>\n",
              "      <th>...</th>\n",
              "      <td>...</td>\n",
              "    </tr>\n",
              "    <tr>\n",
              "      <th>4995</th>\n",
              "      <td>0</td>\n",
              "    </tr>\n",
              "    <tr>\n",
              "      <th>4996</th>\n",
              "      <td>6900000</td>\n",
              "    </tr>\n",
              "    <tr>\n",
              "      <th>4997</th>\n",
              "      <td>0</td>\n",
              "    </tr>\n",
              "    <tr>\n",
              "      <th>4998</th>\n",
              "      <td>0</td>\n",
              "    </tr>\n",
              "    <tr>\n",
              "      <th>4999</th>\n",
              "      <td>55000000</td>\n",
              "    </tr>\n",
              "  </tbody>\n",
              "</table>\n",
              "<p>5000 rows × 1 columns</p>\n",
              "</div><br><label><b>dtype:</b> int64</label>"
            ]
          },
          "metadata": {},
          "execution_count": 73
        }
      ]
    },
    {
      "cell_type": "code",
      "source": [
        "df.release_date[:5000].dtype"
      ],
      "metadata": {
        "colab": {
          "base_uri": "https://localhost:8080/"
        },
        "id": "bUIcziNj82rM",
        "outputId": "4d665eaa-197a-4a69-b094-27b0655f56ec"
      },
      "execution_count": 67,
      "outputs": [
        {
          "output_type": "execute_result",
          "data": {
            "text/plain": [
              "dtype('O')"
            ]
          },
          "metadata": {},
          "execution_count": 67
        }
      ]
    },
    {
      "cell_type": "code",
      "source": [
        "year_release=pd.to_datetime(df.release_date[:5000])"
      ],
      "metadata": {
        "id": "H7vwfaRP82n4"
      },
      "execution_count": 68,
      "outputs": []
    },
    {
      "cell_type": "code",
      "source": [
        "year_release=year_release.dt.year"
      ],
      "metadata": {
        "id": "MREnwdBR91rh"
      },
      "execution_count": 69,
      "outputs": []
    },
    {
      "cell_type": "code",
      "source": [
        "year_release"
      ],
      "metadata": {
        "colab": {
          "base_uri": "https://localhost:8080/",
          "height": 458
        },
        "id": "Zu4qIfOv91oD",
        "outputId": "4fab3b4c-e8bf-44a5-c62c-b317f39ad36b"
      },
      "execution_count": 70,
      "outputs": [
        {
          "output_type": "execute_result",
          "data": {
            "text/plain": [
              "0       2010\n",
              "1       2014\n",
              "2       2008\n",
              "3       2009\n",
              "4       2012\n",
              "        ... \n",
              "4995    2022\n",
              "4996    2020\n",
              "4997    2007\n",
              "4998    2021\n",
              "4999    2013\n",
              "Name: release_date, Length: 5000, dtype: int32"
            ],
            "text/html": [
              "<div>\n",
              "<style scoped>\n",
              "    .dataframe tbody tr th:only-of-type {\n",
              "        vertical-align: middle;\n",
              "    }\n",
              "\n",
              "    .dataframe tbody tr th {\n",
              "        vertical-align: top;\n",
              "    }\n",
              "\n",
              "    .dataframe thead th {\n",
              "        text-align: right;\n",
              "    }\n",
              "</style>\n",
              "<table border=\"1\" class=\"dataframe\">\n",
              "  <thead>\n",
              "    <tr style=\"text-align: right;\">\n",
              "      <th></th>\n",
              "      <th>release_date</th>\n",
              "    </tr>\n",
              "  </thead>\n",
              "  <tbody>\n",
              "    <tr>\n",
              "      <th>0</th>\n",
              "      <td>2010</td>\n",
              "    </tr>\n",
              "    <tr>\n",
              "      <th>1</th>\n",
              "      <td>2014</td>\n",
              "    </tr>\n",
              "    <tr>\n",
              "      <th>2</th>\n",
              "      <td>2008</td>\n",
              "    </tr>\n",
              "    <tr>\n",
              "      <th>3</th>\n",
              "      <td>2009</td>\n",
              "    </tr>\n",
              "    <tr>\n",
              "      <th>4</th>\n",
              "      <td>2012</td>\n",
              "    </tr>\n",
              "    <tr>\n",
              "      <th>...</th>\n",
              "      <td>...</td>\n",
              "    </tr>\n",
              "    <tr>\n",
              "      <th>4995</th>\n",
              "      <td>2022</td>\n",
              "    </tr>\n",
              "    <tr>\n",
              "      <th>4996</th>\n",
              "      <td>2020</td>\n",
              "    </tr>\n",
              "    <tr>\n",
              "      <th>4997</th>\n",
              "      <td>2007</td>\n",
              "    </tr>\n",
              "    <tr>\n",
              "      <th>4998</th>\n",
              "      <td>2021</td>\n",
              "    </tr>\n",
              "    <tr>\n",
              "      <th>4999</th>\n",
              "      <td>2013</td>\n",
              "    </tr>\n",
              "  </tbody>\n",
              "</table>\n",
              "<p>5000 rows × 1 columns</p>\n",
              "</div><br><label><b>dtype:</b> int32</label>"
            ]
          },
          "metadata": {},
          "execution_count": 70
        }
      ]
    },
    {
      "cell_type": "code",
      "source": [
        "year_release.value_counts()"
      ],
      "metadata": {
        "colab": {
          "base_uri": "https://localhost:8080/",
          "height": 490
        },
        "id": "ToxeeePq-YiS",
        "outputId": "da902b2e-f56f-4d54-8d0e-fa3d895eea77"
      },
      "execution_count": 71,
      "outputs": [
        {
          "output_type": "execute_result",
          "data": {
            "text/plain": [
              "release_date\n",
              "2018    225\n",
              "2017    220\n",
              "2014    217\n",
              "2016    210\n",
              "2019    203\n",
              "       ... \n",
              "1920      1\n",
              "1936      1\n",
              "1902      1\n",
              "1921      1\n",
              "1929      1\n",
              "Name: count, Length: 102, dtype: int64"
            ],
            "text/html": [
              "<div>\n",
              "<style scoped>\n",
              "    .dataframe tbody tr th:only-of-type {\n",
              "        vertical-align: middle;\n",
              "    }\n",
              "\n",
              "    .dataframe tbody tr th {\n",
              "        vertical-align: top;\n",
              "    }\n",
              "\n",
              "    .dataframe thead th {\n",
              "        text-align: right;\n",
              "    }\n",
              "</style>\n",
              "<table border=\"1\" class=\"dataframe\">\n",
              "  <thead>\n",
              "    <tr style=\"text-align: right;\">\n",
              "      <th></th>\n",
              "      <th>count</th>\n",
              "    </tr>\n",
              "    <tr>\n",
              "      <th>release_date</th>\n",
              "      <th></th>\n",
              "    </tr>\n",
              "  </thead>\n",
              "  <tbody>\n",
              "    <tr>\n",
              "      <th>2018</th>\n",
              "      <td>225</td>\n",
              "    </tr>\n",
              "    <tr>\n",
              "      <th>2017</th>\n",
              "      <td>220</td>\n",
              "    </tr>\n",
              "    <tr>\n",
              "      <th>2014</th>\n",
              "      <td>217</td>\n",
              "    </tr>\n",
              "    <tr>\n",
              "      <th>2016</th>\n",
              "      <td>210</td>\n",
              "    </tr>\n",
              "    <tr>\n",
              "      <th>2019</th>\n",
              "      <td>203</td>\n",
              "    </tr>\n",
              "    <tr>\n",
              "      <th>...</th>\n",
              "      <td>...</td>\n",
              "    </tr>\n",
              "    <tr>\n",
              "      <th>1920</th>\n",
              "      <td>1</td>\n",
              "    </tr>\n",
              "    <tr>\n",
              "      <th>1936</th>\n",
              "      <td>1</td>\n",
              "    </tr>\n",
              "    <tr>\n",
              "      <th>1902</th>\n",
              "      <td>1</td>\n",
              "    </tr>\n",
              "    <tr>\n",
              "      <th>1921</th>\n",
              "      <td>1</td>\n",
              "    </tr>\n",
              "    <tr>\n",
              "      <th>1929</th>\n",
              "      <td>1</td>\n",
              "    </tr>\n",
              "  </tbody>\n",
              "</table>\n",
              "<p>102 rows × 1 columns</p>\n",
              "</div><br><label><b>dtype:</b> int64</label>"
            ]
          },
          "metadata": {},
          "execution_count": 71
        }
      ]
    },
    {
      "cell_type": "code",
      "source": [
        "budget_by_year=pd.DataFrame.join(year_release,df.budget[:5000])"
      ],
      "metadata": {
        "id": "HvHogOpR-Yew"
      },
      "execution_count": 81,
      "outputs": []
    },
    {
      "source": [
        "sorted_budget=budget_by_year.sort_values(by='budget',ascending=False)\n",
        "sorted_budget=sorted_budget.reset_index(drop=True)"
      ],
      "cell_type": "code",
      "metadata": {
        "id": "kD5gaQhnGFfp"
      },
      "execution_count": 95,
      "outputs": []
    },
    {
      "source": [
        "high_one=sorted_budget[sorted_budget['budget']>10000000]"
      ],
      "cell_type": "code",
      "metadata": {
        "id": "MPHzN-3SEIYJ"
      },
      "execution_count": 101,
      "outputs": []
    },
    {
      "cell_type": "code",
      "source": [
        "high_one"
      ],
      "metadata": {
        "colab": {
          "base_uri": "https://localhost:8080/",
          "height": 424
        },
        "id": "97c9aLmWHj-x",
        "outputId": "55f89006-48e0-4749-a32d-b71fbd6e3e41"
      },
      "execution_count": 108,
      "outputs": [
        {
          "output_type": "execute_result",
          "data": {
            "text/plain": [
              "      release_date     budget\n",
              "0             2022  460000000\n",
              "1             2011  379000000\n",
              "2             2015  365000000\n",
              "3             2019  356000000\n",
              "4             2023  340000000\n",
              "...            ...        ...\n",
              "3127          1982   10500000\n",
              "3128          1999   10500000\n",
              "3129          2016   10400000\n",
              "3130          2007   10200000\n",
              "3131          2001   10000005\n",
              "\n",
              "[3132 rows x 2 columns]"
            ],
            "text/html": [
              "\n",
              "  <div id=\"df-367a9f6d-dfa0-480f-8fc4-12d9e552bc8d\" class=\"colab-df-container\">\n",
              "    <div>\n",
              "<style scoped>\n",
              "    .dataframe tbody tr th:only-of-type {\n",
              "        vertical-align: middle;\n",
              "    }\n",
              "\n",
              "    .dataframe tbody tr th {\n",
              "        vertical-align: top;\n",
              "    }\n",
              "\n",
              "    .dataframe thead th {\n",
              "        text-align: right;\n",
              "    }\n",
              "</style>\n",
              "<table border=\"1\" class=\"dataframe\">\n",
              "  <thead>\n",
              "    <tr style=\"text-align: right;\">\n",
              "      <th></th>\n",
              "      <th>release_date</th>\n",
              "      <th>budget</th>\n",
              "    </tr>\n",
              "  </thead>\n",
              "  <tbody>\n",
              "    <tr>\n",
              "      <th>0</th>\n",
              "      <td>2022</td>\n",
              "      <td>460000000</td>\n",
              "    </tr>\n",
              "    <tr>\n",
              "      <th>1</th>\n",
              "      <td>2011</td>\n",
              "      <td>379000000</td>\n",
              "    </tr>\n",
              "    <tr>\n",
              "      <th>2</th>\n",
              "      <td>2015</td>\n",
              "      <td>365000000</td>\n",
              "    </tr>\n",
              "    <tr>\n",
              "      <th>3</th>\n",
              "      <td>2019</td>\n",
              "      <td>356000000</td>\n",
              "    </tr>\n",
              "    <tr>\n",
              "      <th>4</th>\n",
              "      <td>2023</td>\n",
              "      <td>340000000</td>\n",
              "    </tr>\n",
              "    <tr>\n",
              "      <th>...</th>\n",
              "      <td>...</td>\n",
              "      <td>...</td>\n",
              "    </tr>\n",
              "    <tr>\n",
              "      <th>3127</th>\n",
              "      <td>1982</td>\n",
              "      <td>10500000</td>\n",
              "    </tr>\n",
              "    <tr>\n",
              "      <th>3128</th>\n",
              "      <td>1999</td>\n",
              "      <td>10500000</td>\n",
              "    </tr>\n",
              "    <tr>\n",
              "      <th>3129</th>\n",
              "      <td>2016</td>\n",
              "      <td>10400000</td>\n",
              "    </tr>\n",
              "    <tr>\n",
              "      <th>3130</th>\n",
              "      <td>2007</td>\n",
              "      <td>10200000</td>\n",
              "    </tr>\n",
              "    <tr>\n",
              "      <th>3131</th>\n",
              "      <td>2001</td>\n",
              "      <td>10000005</td>\n",
              "    </tr>\n",
              "  </tbody>\n",
              "</table>\n",
              "<p>3132 rows × 2 columns</p>\n",
              "</div>\n",
              "    <div class=\"colab-df-buttons\">\n",
              "\n",
              "  <div class=\"colab-df-container\">\n",
              "    <button class=\"colab-df-convert\" onclick=\"convertToInteractive('df-367a9f6d-dfa0-480f-8fc4-12d9e552bc8d')\"\n",
              "            title=\"Convert this dataframe to an interactive table.\"\n",
              "            style=\"display:none;\">\n",
              "\n",
              "  <svg xmlns=\"http://www.w3.org/2000/svg\" height=\"24px\" viewBox=\"0 -960 960 960\">\n",
              "    <path d=\"M120-120v-720h720v720H120Zm60-500h600v-160H180v160Zm220 220h160v-160H400v160Zm0 220h160v-160H400v160ZM180-400h160v-160H180v160Zm440 0h160v-160H620v160ZM180-180h160v-160H180v160Zm440 0h160v-160H620v160Z\"/>\n",
              "  </svg>\n",
              "    </button>\n",
              "\n",
              "  <style>\n",
              "    .colab-df-container {\n",
              "      display:flex;\n",
              "      gap: 12px;\n",
              "    }\n",
              "\n",
              "    .colab-df-convert {\n",
              "      background-color: #E8F0FE;\n",
              "      border: none;\n",
              "      border-radius: 50%;\n",
              "      cursor: pointer;\n",
              "      display: none;\n",
              "      fill: #1967D2;\n",
              "      height: 32px;\n",
              "      padding: 0 0 0 0;\n",
              "      width: 32px;\n",
              "    }\n",
              "\n",
              "    .colab-df-convert:hover {\n",
              "      background-color: #E2EBFA;\n",
              "      box-shadow: 0px 1px 2px rgba(60, 64, 67, 0.3), 0px 1px 3px 1px rgba(60, 64, 67, 0.15);\n",
              "      fill: #174EA6;\n",
              "    }\n",
              "\n",
              "    .colab-df-buttons div {\n",
              "      margin-bottom: 4px;\n",
              "    }\n",
              "\n",
              "    [theme=dark] .colab-df-convert {\n",
              "      background-color: #3B4455;\n",
              "      fill: #D2E3FC;\n",
              "    }\n",
              "\n",
              "    [theme=dark] .colab-df-convert:hover {\n",
              "      background-color: #434B5C;\n",
              "      box-shadow: 0px 1px 3px 1px rgba(0, 0, 0, 0.15);\n",
              "      filter: drop-shadow(0px 1px 2px rgba(0, 0, 0, 0.3));\n",
              "      fill: #FFFFFF;\n",
              "    }\n",
              "  </style>\n",
              "\n",
              "    <script>\n",
              "      const buttonEl =\n",
              "        document.querySelector('#df-367a9f6d-dfa0-480f-8fc4-12d9e552bc8d button.colab-df-convert');\n",
              "      buttonEl.style.display =\n",
              "        google.colab.kernel.accessAllowed ? 'block' : 'none';\n",
              "\n",
              "      async function convertToInteractive(key) {\n",
              "        const element = document.querySelector('#df-367a9f6d-dfa0-480f-8fc4-12d9e552bc8d');\n",
              "        const dataTable =\n",
              "          await google.colab.kernel.invokeFunction('convertToInteractive',\n",
              "                                                    [key], {});\n",
              "        if (!dataTable) return;\n",
              "\n",
              "        const docLinkHtml = 'Like what you see? Visit the ' +\n",
              "          '<a target=\"_blank\" href=https://colab.research.google.com/notebooks/data_table.ipynb>data table notebook</a>'\n",
              "          + ' to learn more about interactive tables.';\n",
              "        element.innerHTML = '';\n",
              "        dataTable['output_type'] = 'display_data';\n",
              "        await google.colab.output.renderOutput(dataTable, element);\n",
              "        const docLink = document.createElement('div');\n",
              "        docLink.innerHTML = docLinkHtml;\n",
              "        element.appendChild(docLink);\n",
              "      }\n",
              "    </script>\n",
              "  </div>\n",
              "\n",
              "\n",
              "<div id=\"df-1257bb89-36b0-4424-a80e-7d11e48b34a7\">\n",
              "  <button class=\"colab-df-quickchart\" onclick=\"quickchart('df-1257bb89-36b0-4424-a80e-7d11e48b34a7')\"\n",
              "            title=\"Suggest charts\"\n",
              "            style=\"display:none;\">\n",
              "\n",
              "<svg xmlns=\"http://www.w3.org/2000/svg\" height=\"24px\"viewBox=\"0 0 24 24\"\n",
              "     width=\"24px\">\n",
              "    <g>\n",
              "        <path d=\"M19 3H5c-1.1 0-2 .9-2 2v14c0 1.1.9 2 2 2h14c1.1 0 2-.9 2-2V5c0-1.1-.9-2-2-2zM9 17H7v-7h2v7zm4 0h-2V7h2v10zm4 0h-2v-4h2v4z\"/>\n",
              "    </g>\n",
              "</svg>\n",
              "  </button>\n",
              "\n",
              "<style>\n",
              "  .colab-df-quickchart {\n",
              "      --bg-color: #E8F0FE;\n",
              "      --fill-color: #1967D2;\n",
              "      --hover-bg-color: #E2EBFA;\n",
              "      --hover-fill-color: #174EA6;\n",
              "      --disabled-fill-color: #AAA;\n",
              "      --disabled-bg-color: #DDD;\n",
              "  }\n",
              "\n",
              "  [theme=dark] .colab-df-quickchart {\n",
              "      --bg-color: #3B4455;\n",
              "      --fill-color: #D2E3FC;\n",
              "      --hover-bg-color: #434B5C;\n",
              "      --hover-fill-color: #FFFFFF;\n",
              "      --disabled-bg-color: #3B4455;\n",
              "      --disabled-fill-color: #666;\n",
              "  }\n",
              "\n",
              "  .colab-df-quickchart {\n",
              "    background-color: var(--bg-color);\n",
              "    border: none;\n",
              "    border-radius: 50%;\n",
              "    cursor: pointer;\n",
              "    display: none;\n",
              "    fill: var(--fill-color);\n",
              "    height: 32px;\n",
              "    padding: 0;\n",
              "    width: 32px;\n",
              "  }\n",
              "\n",
              "  .colab-df-quickchart:hover {\n",
              "    background-color: var(--hover-bg-color);\n",
              "    box-shadow: 0 1px 2px rgba(60, 64, 67, 0.3), 0 1px 3px 1px rgba(60, 64, 67, 0.15);\n",
              "    fill: var(--button-hover-fill-color);\n",
              "  }\n",
              "\n",
              "  .colab-df-quickchart-complete:disabled,\n",
              "  .colab-df-quickchart-complete:disabled:hover {\n",
              "    background-color: var(--disabled-bg-color);\n",
              "    fill: var(--disabled-fill-color);\n",
              "    box-shadow: none;\n",
              "  }\n",
              "\n",
              "  .colab-df-spinner {\n",
              "    border: 2px solid var(--fill-color);\n",
              "    border-color: transparent;\n",
              "    border-bottom-color: var(--fill-color);\n",
              "    animation:\n",
              "      spin 1s steps(1) infinite;\n",
              "  }\n",
              "\n",
              "  @keyframes spin {\n",
              "    0% {\n",
              "      border-color: transparent;\n",
              "      border-bottom-color: var(--fill-color);\n",
              "      border-left-color: var(--fill-color);\n",
              "    }\n",
              "    20% {\n",
              "      border-color: transparent;\n",
              "      border-left-color: var(--fill-color);\n",
              "      border-top-color: var(--fill-color);\n",
              "    }\n",
              "    30% {\n",
              "      border-color: transparent;\n",
              "      border-left-color: var(--fill-color);\n",
              "      border-top-color: var(--fill-color);\n",
              "      border-right-color: var(--fill-color);\n",
              "    }\n",
              "    40% {\n",
              "      border-color: transparent;\n",
              "      border-right-color: var(--fill-color);\n",
              "      border-top-color: var(--fill-color);\n",
              "    }\n",
              "    60% {\n",
              "      border-color: transparent;\n",
              "      border-right-color: var(--fill-color);\n",
              "    }\n",
              "    80% {\n",
              "      border-color: transparent;\n",
              "      border-right-color: var(--fill-color);\n",
              "      border-bottom-color: var(--fill-color);\n",
              "    }\n",
              "    90% {\n",
              "      border-color: transparent;\n",
              "      border-bottom-color: var(--fill-color);\n",
              "    }\n",
              "  }\n",
              "</style>\n",
              "\n",
              "  <script>\n",
              "    async function quickchart(key) {\n",
              "      const quickchartButtonEl =\n",
              "        document.querySelector('#' + key + ' button');\n",
              "      quickchartButtonEl.disabled = true;  // To prevent multiple clicks.\n",
              "      quickchartButtonEl.classList.add('colab-df-spinner');\n",
              "      try {\n",
              "        const charts = await google.colab.kernel.invokeFunction(\n",
              "            'suggestCharts', [key], {});\n",
              "      } catch (error) {\n",
              "        console.error('Error during call to suggestCharts:', error);\n",
              "      }\n",
              "      quickchartButtonEl.classList.remove('colab-df-spinner');\n",
              "      quickchartButtonEl.classList.add('colab-df-quickchart-complete');\n",
              "    }\n",
              "    (() => {\n",
              "      let quickchartButtonEl =\n",
              "        document.querySelector('#df-1257bb89-36b0-4424-a80e-7d11e48b34a7 button');\n",
              "      quickchartButtonEl.style.display =\n",
              "        google.colab.kernel.accessAllowed ? 'block' : 'none';\n",
              "    })();\n",
              "  </script>\n",
              "</div>\n",
              "\n",
              "  <div id=\"id_e62643c8-c579-4a0f-986f-2ba49d71f173\">\n",
              "    <style>\n",
              "      .colab-df-generate {\n",
              "        background-color: #E8F0FE;\n",
              "        border: none;\n",
              "        border-radius: 50%;\n",
              "        cursor: pointer;\n",
              "        display: none;\n",
              "        fill: #1967D2;\n",
              "        height: 32px;\n",
              "        padding: 0 0 0 0;\n",
              "        width: 32px;\n",
              "      }\n",
              "\n",
              "      .colab-df-generate:hover {\n",
              "        background-color: #E2EBFA;\n",
              "        box-shadow: 0px 1px 2px rgba(60, 64, 67, 0.3), 0px 1px 3px 1px rgba(60, 64, 67, 0.15);\n",
              "        fill: #174EA6;\n",
              "      }\n",
              "\n",
              "      [theme=dark] .colab-df-generate {\n",
              "        background-color: #3B4455;\n",
              "        fill: #D2E3FC;\n",
              "      }\n",
              "\n",
              "      [theme=dark] .colab-df-generate:hover {\n",
              "        background-color: #434B5C;\n",
              "        box-shadow: 0px 1px 3px 1px rgba(0, 0, 0, 0.15);\n",
              "        filter: drop-shadow(0px 1px 2px rgba(0, 0, 0, 0.3));\n",
              "        fill: #FFFFFF;\n",
              "      }\n",
              "    </style>\n",
              "    <button class=\"colab-df-generate\" onclick=\"generateWithVariable('high_one')\"\n",
              "            title=\"Generate code using this dataframe.\"\n",
              "            style=\"display:none;\">\n",
              "\n",
              "  <svg xmlns=\"http://www.w3.org/2000/svg\" height=\"24px\"viewBox=\"0 0 24 24\"\n",
              "       width=\"24px\">\n",
              "    <path d=\"M7,19H8.4L18.45,9,17,7.55,7,17.6ZM5,21V16.75L18.45,3.32a2,2,0,0,1,2.83,0l1.4,1.43a1.91,1.91,0,0,1,.58,1.4,1.91,1.91,0,0,1-.58,1.4L9.25,21ZM18.45,9,17,7.55Zm-12,3A5.31,5.31,0,0,0,4.9,8.1,5.31,5.31,0,0,0,1,6.5,5.31,5.31,0,0,0,4.9,4.9,5.31,5.31,0,0,0,6.5,1,5.31,5.31,0,0,0,8.1,4.9,5.31,5.31,0,0,0,12,6.5,5.46,5.46,0,0,0,6.5,12Z\"/>\n",
              "  </svg>\n",
              "    </button>\n",
              "    <script>\n",
              "      (() => {\n",
              "      const buttonEl =\n",
              "        document.querySelector('#id_e62643c8-c579-4a0f-986f-2ba49d71f173 button.colab-df-generate');\n",
              "      buttonEl.style.display =\n",
              "        google.colab.kernel.accessAllowed ? 'block' : 'none';\n",
              "\n",
              "      buttonEl.onclick = () => {\n",
              "        google.colab.notebook.generateWithVariable('high_one');\n",
              "      }\n",
              "      })();\n",
              "    </script>\n",
              "  </div>\n",
              "\n",
              "    </div>\n",
              "  </div>\n"
            ],
            "application/vnd.google.colaboratory.intrinsic+json": {
              "type": "dataframe",
              "variable_name": "high_one",
              "summary": "{\n  \"name\": \"high_one\",\n  \"rows\": 3132,\n  \"fields\": [\n    {\n      \"column\": \"release_date\",\n      \"properties\": {\n        \"dtype\": \"int32\",\n        \"num_unique_values\": 60,\n        \"samples\": [\n          2022,\n          2017,\n          1978\n        ],\n        \"semantic_type\": \"\",\n        \"description\": \"\"\n      }\n    },\n    {\n      \"column\": \"budget\",\n      \"properties\": {\n        \"dtype\": \"number\",\n        \"std\": 50991761,\n        \"min\": 10000005,\n        \"max\": 460000000,\n        \"num_unique_values\": 284,\n        \"samples\": [\n          260000000,\n          12850990,\n          39000000\n        ],\n        \"semantic_type\": \"\",\n        \"description\": \"\"\n      }\n    }\n  ]\n}"
            }
          },
          "metadata": {},
          "execution_count": 108
        }
      ]
    },
    {
      "source": [
        "# @title release_date vs budget\n",
        "\n",
        "from matplotlib import pyplot as plt\n",
        "import seaborn as sns\n",
        "def _plot_series(series, series_name, series_index=0):\n",
        "  palette = list(sns.palettes.mpl_palette('Dark2'))\n",
        "  xs = series['release_date']\n",
        "  ys = series['budget']\n",
        "\n",
        "  plt.plot(xs, ys, label=series_name, color=palette[series_index % len(palette)])\n",
        "\n",
        "fig, ax = plt.subplots(figsize=(10, 5.2), layout='constrained')\n",
        "df_sorted = high_one.sort_values('release_date', ascending=True)\n",
        "_plot_series(df_sorted, '')\n",
        "sns.despine(fig=fig, ax=ax)\n",
        "plt.xlabel('release_date')\n",
        "_ = plt.ylabel('budget')"
      ],
      "cell_type": "code",
      "execution_count": 107,
      "outputs": [
        {
          "output_type": "display_data",
          "data": {
            "text/plain": [
              "<Figure size 1000x520 with 1 Axes>"
            ],
            "image/png": "[encoded data removed]"
          },
          "metadata": {}
        }
      ],
      "metadata": {
        "cellView": "form",
        "colab": {
          "base_uri": "https://localhost:8080/",
          "height": 511
        },
        "id": "fSQYGztnRDHU",
        "outputId": "1423b3a1-c9f3-4631-faed-339e19c8203a"
      }
    },
    {
      "source": [
        "from matplotlib import pyplot as plt\n",
        "high_one.plot(kind='scatter', x='release_date', y='budget', s=32, alpha=.8)\n",
        "plt.gca().spines[['top', 'right',]].set_visible(False)"
      ],
      "cell_type": "code",
      "metadata": {
        "colab": {
          "base_uri": "https://localhost:8080/",
          "height": 465
        },
        "id": "GdOx9CBsLPVX",
        "outputId": "b90d63a3-85ee-4908-9081-d24899292b62"
      },
      "execution_count": 103,
      "outputs": [
        {
          "output_type": "display_data",
          "data": {
            "text/plain": [
              "<Figure size 640x480 with 1 Axes>"
            ],
            "image/png": "[encoded data removed]"
          },
          "metadata": {}
        }
      ]
    },
    {
      "source": [
        "from matplotlib import pyplot as plt\n",
        "_df_1['release_date'].plot(kind='hist', bins=40, title='release_date')\n",
        "plt.gca().spines[['top', 'right',]].set_visible(False)"
      ],
      "cell_type": "code",
      "metadata": {
        "colab": {
          "base_uri": "https://localhost:8080/",
          "height": 452
        },
        "id": "UUnKBW2bD8a8",
        "outputId": "e1de4390-138b-458b-8c6e-20ab504eb75c"
      },
      "execution_count": 76,
      "outputs": [
        {
          "output_type": "display_data",
          "data": {
            "text/plain": [
              "<Figure size 640x480 with 1 Axes>"
            ],
            "image/png": "[encoded data removed]"
          },
          "metadata": {}
        }
      ]
    },
    {
      "cell_type": "markdown",
      "source": [
        "## Conclusion"
      ],
      "metadata": {
        "id": "BCP1m6OkGfQT"
      }
    },
    {
      "cell_type": "markdown",
      "source": [
        "1. English is the most widely used original language among the released movies.\n",
        "2. Documentary and Drama are the genres of movies mostly released.\n",
        "3. Around 14,000 movies have a popularity rating of 0.\n",
        "4. About 50,000 movies have the popularity rating of 0.6.\n",
        "5. About 70,000 movies have a vote count of 0.\n",
        "6. Most of the vote ratings count are in the single digits.\n",
        "7. A trend can be seen that after 2000, the release of movies has increased exponentially.\n",
        "8. The budget of movies has also increased exponentially after the year 2000.\n",
        "\n"
      ],
      "metadata": {
        "id": "CXewO46VGjMA"
      }
    },
    {
      "cell_type": "markdown",
      "source": [
        "## Future Works"
      ],
      "metadata": {
        "id": "fgm6vYmHhMTc"
      }
    },
    {
      "cell_type": "markdown",
      "source": [
        "There's a huge amount of data in this dataset. So covering everying is notfeasable in one project. Thus, this section exists in the first place.\n",
        "\n",
        "\n",
        "1. Data can be analyzed taken by year to year.\n",
        "2. Based on high reviews, it can be analyzed as well.\n",
        "3. Based on the IMDB rating, it can be sorted and analyzed."
      ],
      "metadata": {
        "id": "g-4O4jVlhSY_"
      }
    }
  ]
}